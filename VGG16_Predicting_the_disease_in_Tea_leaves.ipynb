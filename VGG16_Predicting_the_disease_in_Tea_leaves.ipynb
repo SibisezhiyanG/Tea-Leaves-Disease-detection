{
  "cells": [
    {
      "cell_type": "markdown",
      "metadata": {
        "id": "2SYtRPbWuhGR"
      },
      "source": [
        "# Downloading the Dataset"
      ]
    },
    {
      "cell_type": "markdown",
      "metadata": {
        "id": "4-vfQbHvupFx"
      },
      "source": [
        "[Dataset Link](https://www.kaggle.com/datasets/shashwatwork/identifying-disease-in-tea-leafs)"
      ]
    },
    {
      "cell_type": "code",
      "execution_count": 5,
      "metadata": {
        "colab": {
          "base_uri": "https://localhost:8080/"
        },
        "id": "zFGBOdkRuJgC",
        "outputId": "b804890b-3fa2-47d8-b519-b8bfa324a8fe"
      },
      "outputs": [
        {
          "name": "stdout",
          "output_type": "stream",
          "text": [
            "Looking in indexes: https://pypi.org/simple, https://us-python.pkg.dev/colab-wheels/public/simple/\n",
            "Requirement already satisfied: kaggle in /usr/local/lib/python3.7/dist-packages (1.5.12)\n",
            "Requirement already satisfied: python-dateutil in /usr/local/lib/python3.7/dist-packages (from kaggle) (2.8.2)\n",
            "Requirement already satisfied: tqdm in /usr/local/lib/python3.7/dist-packages (from kaggle) (4.64.1)\n",
            "Requirement already satisfied: urllib3 in /usr/local/lib/python3.7/dist-packages (from kaggle) (1.24.3)\n",
            "Requirement already satisfied: requests in /usr/local/lib/python3.7/dist-packages (from kaggle) (2.23.0)\n",
            "Requirement already satisfied: python-slugify in /usr/local/lib/python3.7/dist-packages (from kaggle) (6.1.2)\n",
            "Requirement already satisfied: certifi in /usr/local/lib/python3.7/dist-packages (from kaggle) (2022.9.24)\n",
            "Requirement already satisfied: six>=1.10 in /usr/local/lib/python3.7/dist-packages (from kaggle) (1.15.0)\n",
            "Requirement already satisfied: text-unidecode>=1.3 in /usr/local/lib/python3.7/dist-packages (from python-slugify->kaggle) (1.3)\n",
            "Requirement already satisfied: idna<3,>=2.5 in /usr/local/lib/python3.7/dist-packages (from requests->kaggle) (2.10)\n",
            "Requirement already satisfied: chardet<4,>=3.0.2 in /usr/local/lib/python3.7/dist-packages (from requests->kaggle) (3.0.4)\n"
          ]
        }
      ],
      "source": [
        "! pip install kaggle"
      ]
    },
    {
      "cell_type": "code",
      "execution_count": 6,
      "metadata": {
        "id": "MKEv0NcCu3iL"
      },
      "outputs": [],
      "source": [
        "! mkdir ~/.kaggle"
      ]
    },
    {
      "cell_type": "code",
      "execution_count": 7,
      "metadata": {
        "id": "Agna2Q20u5nJ"
      },
      "outputs": [],
      "source": [
        "cp kaggle.json ~/.kaggle/"
      ]
    },
    {
      "cell_type": "code",
      "execution_count": 8,
      "metadata": {
        "id": "8IkOKzivu7lI"
      },
      "outputs": [],
      "source": [
        "! chmod 600 ~/.kaggle/kaggle.json"
      ]
    },
    {
      "cell_type": "code",
      "execution_count": 9,
      "metadata": {
        "colab": {
          "base_uri": "https://localhost:8080/"
        },
        "id": "478MFj1SvBaY",
        "outputId": "19c033eb-697d-4990-8059-07e213f37441"
      },
      "outputs": [
        {
          "name": "stdout",
          "output_type": "stream",
          "text": [
            "Downloading identifying-disease-in-tea-leafs.zip to /content\n",
            " 99% 731M/740M [00:06<00:00, 176MB/s]\n",
            "100% 740M/740M [00:07<00:00, 111MB/s]\n"
          ]
        }
      ],
      "source": [
        "! kaggle datasets download -d shashwatwork/identifying-disease-in-tea-leafs"
      ]
    },
    {
      "cell_type": "code",
      "execution_count": 10,
      "metadata": {
        "colab": {
          "base_uri": "https://localhost:8080/"
        },
        "id": "3FbIyk4ivAO_",
        "outputId": "6e1bdc69-1203-4b2c-befe-77e0e0b8bd33"
      },
      "outputs": [
        {
          "name": "stdout",
          "output_type": "stream",
          "text": [
            "Archive:  identifying-disease-in-tea-leafs.zip\n",
            "  inflating: tea sickness dataset/Anthracnose/IMG_20220503_143242.jpg  \n",
            "  inflating: tea sickness dataset/Anthracnose/IMG_20220503_143328.jpg  \n",
            "  inflating: tea sickness dataset/Anthracnose/IMG_20220503_143336.jpg  \n",
            "  inflating: tea sickness dataset/Anthracnose/IMG_20220503_143344.jpg  \n",
            "  inflating: tea sickness dataset/Anthracnose/IMG_20220503_143352.jpg  \n",
            "  inflating: tea sickness dataset/Anthracnose/IMG_20220503_143401.jpg  \n",
            "  inflating: tea sickness dataset/Anthracnose/IMG_20220503_143424.jpg  \n",
            "  inflating: tea sickness dataset/Anthracnose/IMG_20220503_143433.jpg  \n",
            "  inflating: tea sickness dataset/Anthracnose/IMG_20220503_143441.jpg  \n",
            "  inflating: tea sickness dataset/Anthracnose/IMG_20220503_143451.jpg  \n",
            "  inflating: tea sickness dataset/Anthracnose/IMG_20220503_143501.jpg  \n",
            "  inflating: tea sickness dataset/Anthracnose/IMG_20220503_143511.jpg  \n",
            "  inflating: tea sickness dataset/Anthracnose/IMG_20220503_143525.jpg  \n",
            "  inflating: tea sickness dataset/Anthracnose/IMG_20220503_143604.jpg  \n",
            "  inflating: tea sickness dataset/Anthracnose/IMG_20220503_143613.jpg  \n",
            "  inflating: tea sickness dataset/Anthracnose/IMG_20220503_143630.jpg  \n",
            "  inflating: tea sickness dataset/Anthracnose/IMG_20220503_143639.jpg  \n",
            "  inflating: tea sickness dataset/Anthracnose/IMG_20220503_143647.jpg  \n",
            "  inflating: tea sickness dataset/Anthracnose/IMG_20220503_143659.jpg  \n",
            "  inflating: tea sickness dataset/Anthracnose/IMG_20220503_143709.jpg  \n",
            "  inflating: tea sickness dataset/Anthracnose/IMG_20220503_143717.jpg  \n",
            "  inflating: tea sickness dataset/Anthracnose/IMG_20220503_143725.jpg  \n",
            "  inflating: tea sickness dataset/Anthracnose/IMG_20220503_143740.jpg  \n",
            "  inflating: tea sickness dataset/Anthracnose/IMG_20220503_143750.jpg  \n",
            "  inflating: tea sickness dataset/Anthracnose/IMG_20220503_143759.jpg  \n",
            "  inflating: tea sickness dataset/Anthracnose/IMG_20220503_143820.jpg  \n",
            "  inflating: tea sickness dataset/Anthracnose/IMG_20220503_143831.jpg  \n",
            "  inflating: tea sickness dataset/Anthracnose/IMG_20220503_143841.jpg  \n",
            "  inflating: tea sickness dataset/Anthracnose/IMG_20220503_143856.jpg  \n",
            "  inflating: tea sickness dataset/Anthracnose/IMG_20220503_143922.jpg  \n",
            "  inflating: tea sickness dataset/Anthracnose/IMG_20220503_144002.jpg  \n",
            "  inflating: tea sickness dataset/Anthracnose/IMG_20220503_144012.jpg  \n",
            "  inflating: tea sickness dataset/Anthracnose/IMG_20220503_144022.jpg  \n",
            "  inflating: tea sickness dataset/Anthracnose/IMG_20220503_144034.jpg  \n",
            "  inflating: tea sickness dataset/Anthracnose/IMG_20220503_144109.jpg  \n",
            "  inflating: tea sickness dataset/Anthracnose/IMG_20220503_144132.jpg  \n",
            "  inflating: tea sickness dataset/Anthracnose/IMG_20220503_144141.jpg  \n",
            "  inflating: tea sickness dataset/Anthracnose/IMG_20220503_144158.jpg  \n",
            "  inflating: tea sickness dataset/Anthracnose/IMG_20220503_144214.jpg  \n",
            "  inflating: tea sickness dataset/Anthracnose/IMG_20220503_144300.jpg  \n",
            "  inflating: tea sickness dataset/Anthracnose/IMG_20220503_144322.jpg  \n",
            "  inflating: tea sickness dataset/Anthracnose/IMG_20220503_144330.jpg  \n",
            "  inflating: tea sickness dataset/Anthracnose/IMG_20220503_144533.jpg  \n",
            "  inflating: tea sickness dataset/Anthracnose/IMG_20220503_144542.jpg  \n",
            "  inflating: tea sickness dataset/Anthracnose/IMG_20220503_144612.jpg  \n",
            "  inflating: tea sickness dataset/Anthracnose/IMG_20220503_144653.jpg  \n",
            "  inflating: tea sickness dataset/Anthracnose/IMG_20220503_144659.jpg  \n",
            "  inflating: tea sickness dataset/Anthracnose/IMG_20220503_144706.jpg  \n",
            "  inflating: tea sickness dataset/Anthracnose/IMG_20220503_144727.jpg  \n",
            "  inflating: tea sickness dataset/Anthracnose/IMG_20220503_144737.jpg  \n",
            "  inflating: tea sickness dataset/Anthracnose/IMG_20220503_144749.jpg  \n",
            "  inflating: tea sickness dataset/Anthracnose/IMG_20220503_144812.jpg  \n",
            "  inflating: tea sickness dataset/Anthracnose/IMG_20220503_144820.jpg  \n",
            "  inflating: tea sickness dataset/Anthracnose/IMG_20220503_144927.jpg  \n",
            "  inflating: tea sickness dataset/Anthracnose/IMG_20220503_144934.jpg  \n",
            "  inflating: tea sickness dataset/Anthracnose/IMG_20220503_144942.jpg  \n",
            "  inflating: tea sickness dataset/Anthracnose/IMG_20220503_144952.jpg  \n",
            "  inflating: tea sickness dataset/Anthracnose/IMG_20220503_145003.jpg  \n",
            "  inflating: tea sickness dataset/Anthracnose/IMG_20220503_145018.jpg  \n",
            "  inflating: tea sickness dataset/Anthracnose/IMG_20220503_145035.jpg  \n",
            "  inflating: tea sickness dataset/Anthracnose/IMG_20220503_145049.jpg  \n",
            "  inflating: tea sickness dataset/Anthracnose/IMG_20220503_145116.jpg  \n",
            "  inflating: tea sickness dataset/Anthracnose/IMG_20220503_145131.jpg  \n",
            "  inflating: tea sickness dataset/Anthracnose/IMG_20220503_145145.jpg  \n",
            "  inflating: tea sickness dataset/Anthracnose/IMG_20220503_145157.jpg  \n",
            "  inflating: tea sickness dataset/Anthracnose/IMG_20220503_145219.jpg  \n",
            "  inflating: tea sickness dataset/Anthracnose/IMG_20220503_145227.jpg  \n",
            "  inflating: tea sickness dataset/Anthracnose/IMG_20220503_145236.jpg  \n",
            "  inflating: tea sickness dataset/Anthracnose/IMG_20220503_145252.jpg  \n",
            "  inflating: tea sickness dataset/Anthracnose/IMG_20220503_145318.jpg  \n",
            "  inflating: tea sickness dataset/Anthracnose/IMG_20220503_145452.jpg  \n",
            "  inflating: tea sickness dataset/Anthracnose/IMG_20220503_145500.jpg  \n",
            "  inflating: tea sickness dataset/Anthracnose/IMG_20220503_145507.jpg  \n",
            "  inflating: tea sickness dataset/Anthracnose/IMG_20220503_145512.jpg  \n",
            "  inflating: tea sickness dataset/Anthracnose/IMG_20220503_145520.jpg  \n",
            "  inflating: tea sickness dataset/Anthracnose/IMG_20220503_145528.jpg  \n",
            "  inflating: tea sickness dataset/Anthracnose/IMG_20220503_145536.jpg  \n",
            "  inflating: tea sickness dataset/Anthracnose/IMG_20220503_145544.jpg  \n",
            "  inflating: tea sickness dataset/Anthracnose/IMG_20220503_145559.jpg  \n",
            "  inflating: tea sickness dataset/Anthracnose/IMG_20220503_145610.jpg  \n",
            "  inflating: tea sickness dataset/Anthracnose/IMG_20220503_145621.jpg  \n",
            "  inflating: tea sickness dataset/Anthracnose/IMG_20220503_145631.jpg  \n",
            "  inflating: tea sickness dataset/Anthracnose/IMG_20220503_145640.jpg  \n",
            "  inflating: tea sickness dataset/Anthracnose/IMG_20220503_145650.jpg  \n",
            "  inflating: tea sickness dataset/Anthracnose/IMG_20220503_145703.jpg  \n",
            "  inflating: tea sickness dataset/Anthracnose/IMG_20220503_145738.jpg  \n",
            "  inflating: tea sickness dataset/Anthracnose/IMG_20220503_145801.jpg  \n",
            "  inflating: tea sickness dataset/Anthracnose/IMG_20220503_145816.jpg  \n",
            "  inflating: tea sickness dataset/Anthracnose/IMG_20220503_145827.jpg  \n",
            "  inflating: tea sickness dataset/Anthracnose/IMG_20220503_145902.jpg  \n",
            "  inflating: tea sickness dataset/Anthracnose/IMG_20220503_145929.jpg  \n",
            "  inflating: tea sickness dataset/Anthracnose/IMG_20220503_145942.jpg  \n",
            "  inflating: tea sickness dataset/Anthracnose/IMG_20220503_145950.jpg  \n",
            "  inflating: tea sickness dataset/Anthracnose/IMG_20220503_150035.jpg  \n",
            "  inflating: tea sickness dataset/Anthracnose/IMG_20220503_150043.jpg  \n",
            "  inflating: tea sickness dataset/Anthracnose/IMG_20220503_150354.jpg  \n",
            "  inflating: tea sickness dataset/Anthracnose/IMG_20220503_150405.jpg  \n",
            "  inflating: tea sickness dataset/Anthracnose/IMG_20220503_150424.jpg  \n",
            "  inflating: tea sickness dataset/Anthracnose/IMG_20220503_150433.jpg  \n",
            "  inflating: tea sickness dataset/Anthracnose/IMG_20220503_150441.jpg  \n",
            "  inflating: tea sickness dataset/algal leaf/UNADJUSTEDNONRAW_thumb_1.jpg  \n",
            "  inflating: tea sickness dataset/algal leaf/UNADJUSTEDNONRAW_thumb_10.jpg  \n",
            "  inflating: tea sickness dataset/algal leaf/UNADJUSTEDNONRAW_thumb_11.jpg  \n",
            "  inflating: tea sickness dataset/algal leaf/UNADJUSTEDNONRAW_thumb_12.jpg  \n",
            "  inflating: tea sickness dataset/algal leaf/UNADJUSTEDNONRAW_thumb_13.jpg  \n",
            "  inflating: tea sickness dataset/algal leaf/UNADJUSTEDNONRAW_thumb_14.jpg  \n",
            "  inflating: tea sickness dataset/algal leaf/UNADJUSTEDNONRAW_thumb_15.jpg  \n",
            "  inflating: tea sickness dataset/algal leaf/UNADJUSTEDNONRAW_thumb_16.jpg  \n",
            "  inflating: tea sickness dataset/algal leaf/UNADJUSTEDNONRAW_thumb_17.jpg  \n",
            "  inflating: tea sickness dataset/algal leaf/UNADJUSTEDNONRAW_thumb_18.jpg  \n",
            "  inflating: tea sickness dataset/algal leaf/UNADJUSTEDNONRAW_thumb_19.jpg  \n",
            "  inflating: tea sickness dataset/algal leaf/UNADJUSTEDNONRAW_thumb_1a.jpg  \n",
            "  inflating: tea sickness dataset/algal leaf/UNADJUSTEDNONRAW_thumb_1b.jpg  \n",
            "  inflating: tea sickness dataset/algal leaf/UNADJUSTEDNONRAW_thumb_1c.jpg  \n",
            "  inflating: tea sickness dataset/algal leaf/UNADJUSTEDNONRAW_thumb_1d.jpg  \n",
            "  inflating: tea sickness dataset/algal leaf/UNADJUSTEDNONRAW_thumb_1e.jpg  \n",
            "  inflating: tea sickness dataset/algal leaf/UNADJUSTEDNONRAW_thumb_1f.jpg  \n",
            "  inflating: tea sickness dataset/algal leaf/UNADJUSTEDNONRAW_thumb_2.jpg  \n",
            "  inflating: tea sickness dataset/algal leaf/UNADJUSTEDNONRAW_thumb_20.jpg  \n",
            "  inflating: tea sickness dataset/algal leaf/UNADJUSTEDNONRAW_thumb_21.jpg  \n",
            "  inflating: tea sickness dataset/algal leaf/UNADJUSTEDNONRAW_thumb_22.jpg  \n",
            "  inflating: tea sickness dataset/algal leaf/UNADJUSTEDNONRAW_thumb_23.jpg  \n",
            "  inflating: tea sickness dataset/algal leaf/UNADJUSTEDNONRAW_thumb_24.jpg  \n",
            "  inflating: tea sickness dataset/algal leaf/UNADJUSTEDNONRAW_thumb_25.jpg  \n",
            "  inflating: tea sickness dataset/algal leaf/UNADJUSTEDNONRAW_thumb_26.jpg  \n",
            "  inflating: tea sickness dataset/algal leaf/UNADJUSTEDNONRAW_thumb_27.jpg  \n",
            "  inflating: tea sickness dataset/algal leaf/UNADJUSTEDNONRAW_thumb_28.jpg  \n",
            "  inflating: tea sickness dataset/algal leaf/UNADJUSTEDNONRAW_thumb_29.jpg  \n",
            "  inflating: tea sickness dataset/algal leaf/UNADJUSTEDNONRAW_thumb_2a.jpg  \n",
            "  inflating: tea sickness dataset/algal leaf/UNADJUSTEDNONRAW_thumb_2b.jpg  \n",
            "  inflating: tea sickness dataset/algal leaf/UNADJUSTEDNONRAW_thumb_2c.jpg  \n",
            "  inflating: tea sickness dataset/algal leaf/UNADJUSTEDNONRAW_thumb_2d.jpg  \n",
            "  inflating: tea sickness dataset/algal leaf/UNADJUSTEDNONRAW_thumb_2e.jpg  \n",
            "  inflating: tea sickness dataset/algal leaf/UNADJUSTEDNONRAW_thumb_2f.jpg  \n",
            "  inflating: tea sickness dataset/algal leaf/UNADJUSTEDNONRAW_thumb_3.jpg  \n",
            "  inflating: tea sickness dataset/algal leaf/UNADJUSTEDNONRAW_thumb_30.jpg  \n",
            "  inflating: tea sickness dataset/algal leaf/UNADJUSTEDNONRAW_thumb_31.jpg  \n",
            "  inflating: tea sickness dataset/algal leaf/UNADJUSTEDNONRAW_thumb_32.jpg  \n",
            "  inflating: tea sickness dataset/algal leaf/UNADJUSTEDNONRAW_thumb_33.jpg  \n",
            "  inflating: tea sickness dataset/algal leaf/UNADJUSTEDNONRAW_thumb_34.jpg  \n",
            "  inflating: tea sickness dataset/algal leaf/UNADJUSTEDNONRAW_thumb_35.jpg  \n",
            "  inflating: tea sickness dataset/algal leaf/UNADJUSTEDNONRAW_thumb_36.jpg  \n",
            "  inflating: tea sickness dataset/algal leaf/UNADJUSTEDNONRAW_thumb_37.jpg  \n",
            "  inflating: tea sickness dataset/algal leaf/UNADJUSTEDNONRAW_thumb_38.jpg  \n",
            "  inflating: tea sickness dataset/algal leaf/UNADJUSTEDNONRAW_thumb_39.jpg  \n",
            "  inflating: tea sickness dataset/algal leaf/UNADJUSTEDNONRAW_thumb_3a.jpg  \n",
            "  inflating: tea sickness dataset/algal leaf/UNADJUSTEDNONRAW_thumb_3b.jpg  \n",
            "  inflating: tea sickness dataset/algal leaf/UNADJUSTEDNONRAW_thumb_3c.jpg  \n",
            "  inflating: tea sickness dataset/algal leaf/UNADJUSTEDNONRAW_thumb_3d.jpg  \n",
            "  inflating: tea sickness dataset/algal leaf/UNADJUSTEDNONRAW_thumb_3e.jpg  \n",
            "  inflating: tea sickness dataset/algal leaf/UNADJUSTEDNONRAW_thumb_3f.jpg  \n",
            "  inflating: tea sickness dataset/algal leaf/UNADJUSTEDNONRAW_thumb_4.jpg  \n",
            "  inflating: tea sickness dataset/algal leaf/UNADJUSTEDNONRAW_thumb_40.jpg  \n",
            "  inflating: tea sickness dataset/algal leaf/UNADJUSTEDNONRAW_thumb_41.jpg  \n",
            "  inflating: tea sickness dataset/algal leaf/UNADJUSTEDNONRAW_thumb_42.jpg  \n",
            "  inflating: tea sickness dataset/algal leaf/UNADJUSTEDNONRAW_thumb_43.jpg  \n",
            "  inflating: tea sickness dataset/algal leaf/UNADJUSTEDNONRAW_thumb_44.jpg  \n",
            "  inflating: tea sickness dataset/algal leaf/UNADJUSTEDNONRAW_thumb_45.jpg  \n",
            "  inflating: tea sickness dataset/algal leaf/UNADJUSTEDNONRAW_thumb_46.jpg  \n",
            "  inflating: tea sickness dataset/algal leaf/UNADJUSTEDNONRAW_thumb_47.jpg  \n",
            "  inflating: tea sickness dataset/algal leaf/UNADJUSTEDNONRAW_thumb_48.jpg  \n",
            "  inflating: tea sickness dataset/algal leaf/UNADJUSTEDNONRAW_thumb_49.jpg  \n",
            "  inflating: tea sickness dataset/algal leaf/UNADJUSTEDNONRAW_thumb_4a.jpg  \n",
            "  inflating: tea sickness dataset/algal leaf/UNADJUSTEDNONRAW_thumb_4b.jpg  \n",
            "  inflating: tea sickness dataset/algal leaf/UNADJUSTEDNONRAW_thumb_4c.jpg  \n",
            "  inflating: tea sickness dataset/algal leaf/UNADJUSTEDNONRAW_thumb_4d.jpg  \n",
            "  inflating: tea sickness dataset/algal leaf/UNADJUSTEDNONRAW_thumb_4e.jpg  \n",
            "  inflating: tea sickness dataset/algal leaf/UNADJUSTEDNONRAW_thumb_4f.jpg  \n",
            "  inflating: tea sickness dataset/algal leaf/UNADJUSTEDNONRAW_thumb_5.jpg  \n",
            "  inflating: tea sickness dataset/algal leaf/UNADJUSTEDNONRAW_thumb_50.jpg  \n",
            "  inflating: tea sickness dataset/algal leaf/UNADJUSTEDNONRAW_thumb_51.jpg  \n",
            "  inflating: tea sickness dataset/algal leaf/UNADJUSTEDNONRAW_thumb_52.jpg  \n",
            "  inflating: tea sickness dataset/algal leaf/UNADJUSTEDNONRAW_thumb_53.jpg  \n",
            "  inflating: tea sickness dataset/algal leaf/UNADJUSTEDNONRAW_thumb_54.jpg  \n",
            "  inflating: tea sickness dataset/algal leaf/UNADJUSTEDNONRAW_thumb_55.jpg  \n",
            "  inflating: tea sickness dataset/algal leaf/UNADJUSTEDNONRAW_thumb_56.jpg  \n",
            "  inflating: tea sickness dataset/algal leaf/UNADJUSTEDNONRAW_thumb_57.jpg  \n",
            "  inflating: tea sickness dataset/algal leaf/UNADJUSTEDNONRAW_thumb_58.jpg  \n",
            "  inflating: tea sickness dataset/algal leaf/UNADJUSTEDNONRAW_thumb_59.jpg  \n",
            "  inflating: tea sickness dataset/algal leaf/UNADJUSTEDNONRAW_thumb_5a.jpg  \n",
            "  inflating: tea sickness dataset/algal leaf/UNADJUSTEDNONRAW_thumb_5b.jpg  \n",
            "  inflating: tea sickness dataset/algal leaf/UNADJUSTEDNONRAW_thumb_5c.jpg  \n",
            "  inflating: tea sickness dataset/algal leaf/UNADJUSTEDNONRAW_thumb_5d.jpg  \n",
            "  inflating: tea sickness dataset/algal leaf/UNADJUSTEDNONRAW_thumb_5e.jpg  \n",
            "  inflating: tea sickness dataset/algal leaf/UNADJUSTEDNONRAW_thumb_5f.jpg  \n",
            "  inflating: tea sickness dataset/algal leaf/UNADJUSTEDNONRAW_thumb_6.jpg  \n",
            "  inflating: tea sickness dataset/algal leaf/UNADJUSTEDNONRAW_thumb_60.jpg  \n",
            "  inflating: tea sickness dataset/algal leaf/UNADJUSTEDNONRAW_thumb_61.jpg  \n",
            "  inflating: tea sickness dataset/algal leaf/UNADJUSTEDNONRAW_thumb_62.jpg  \n",
            "  inflating: tea sickness dataset/algal leaf/UNADJUSTEDNONRAW_thumb_63.jpg  \n",
            "  inflating: tea sickness dataset/algal leaf/UNADJUSTEDNONRAW_thumb_64.jpg  \n",
            "  inflating: tea sickness dataset/algal leaf/UNADJUSTEDNONRAW_thumb_65.jpg  \n",
            "  inflating: tea sickness dataset/algal leaf/UNADJUSTEDNONRAW_thumb_66.jpg  \n",
            "  inflating: tea sickness dataset/algal leaf/UNADJUSTEDNONRAW_thumb_67.jpg  \n",
            "  inflating: tea sickness dataset/algal leaf/UNADJUSTEDNONRAW_thumb_68.jpg  \n",
            "  inflating: tea sickness dataset/algal leaf/UNADJUSTEDNONRAW_thumb_69.jpg  \n",
            "  inflating: tea sickness dataset/algal leaf/UNADJUSTEDNONRAW_thumb_6a.jpg  \n",
            "  inflating: tea sickness dataset/algal leaf/UNADJUSTEDNONRAW_thumb_6b.jpg  \n",
            "  inflating: tea sickness dataset/algal leaf/UNADJUSTEDNONRAW_thumb_6c.jpg  \n",
            "  inflating: tea sickness dataset/algal leaf/UNADJUSTEDNONRAW_thumb_6d.jpg  \n",
            "  inflating: tea sickness dataset/algal leaf/UNADJUSTEDNONRAW_thumb_6e.jpg  \n",
            "  inflating: tea sickness dataset/algal leaf/UNADJUSTEDNONRAW_thumb_6f.jpg  \n",
            "  inflating: tea sickness dataset/algal leaf/UNADJUSTEDNONRAW_thumb_7.jpg  \n",
            "  inflating: tea sickness dataset/algal leaf/UNADJUSTEDNONRAW_thumb_70.jpg  \n",
            "  inflating: tea sickness dataset/algal leaf/UNADJUSTEDNONRAW_thumb_71.jpg  \n",
            "  inflating: tea sickness dataset/algal leaf/UNADJUSTEDNONRAW_thumb_8.jpg  \n",
            "  inflating: tea sickness dataset/algal leaf/UNADJUSTEDNONRAW_thumb_9.jpg  \n",
            "  inflating: tea sickness dataset/algal leaf/UNADJUSTEDNONRAW_thumb_a.jpg  \n",
            "  inflating: tea sickness dataset/algal leaf/UNADJUSTEDNONRAW_thumb_b.jpg  \n",
            "  inflating: tea sickness dataset/algal leaf/UNADJUSTEDNONRAW_thumb_c.jpg  \n",
            "  inflating: tea sickness dataset/algal leaf/UNADJUSTEDNONRAW_thumb_d.jpg  \n",
            "  inflating: tea sickness dataset/algal leaf/UNADJUSTEDNONRAW_thumb_e.jpg  \n",
            "  inflating: tea sickness dataset/algal leaf/UNADJUSTEDNONRAW_thumb_f.jpg  \n",
            "  inflating: tea sickness dataset/bird eye spot/IMG_20220503_150405.jpg  \n",
            "  inflating: tea sickness dataset/bird eye spot/IMG_20220503_154020.jpg  \n",
            "  inflating: tea sickness dataset/bird eye spot/IMG_20220503_154034.jpg  \n",
            "  inflating: tea sickness dataset/bird eye spot/IMG_20220503_154044.jpg  \n",
            "  inflating: tea sickness dataset/bird eye spot/IMG_20220503_154100.jpg  \n",
            "  inflating: tea sickness dataset/bird eye spot/IMG_20220503_154108.jpg  \n",
            "  inflating: tea sickness dataset/bird eye spot/IMG_20220503_154119.jpg  \n",
            "  inflating: tea sickness dataset/bird eye spot/IMG_20220503_154133.jpg  \n",
            "  inflating: tea sickness dataset/bird eye spot/IMG_20220503_154153.jpg  \n",
            "  inflating: tea sickness dataset/bird eye spot/IMG_20220503_154217.jpg  \n",
            "  inflating: tea sickness dataset/bird eye spot/IMG_20220503_154303.jpg  \n",
            "  inflating: tea sickness dataset/bird eye spot/IMG_20220503_154307.jpg  \n",
            "  inflating: tea sickness dataset/bird eye spot/IMG_20220503_154316.jpg  \n",
            "  inflating: tea sickness dataset/bird eye spot/IMG_20220503_154324.jpg  \n",
            "  inflating: tea sickness dataset/bird eye spot/IMG_20220503_154332.jpg  \n",
            "  inflating: tea sickness dataset/bird eye spot/IMG_20220503_154341.jpg  \n",
            "  inflating: tea sickness dataset/bird eye spot/IMG_20220503_154347.jpg  \n",
            "  inflating: tea sickness dataset/bird eye spot/IMG_20220503_154401.jpg  \n",
            "  inflating: tea sickness dataset/bird eye spot/IMG_20220503_154409.jpg  \n",
            "  inflating: tea sickness dataset/bird eye spot/IMG_20220503_154417.jpg  \n",
            "  inflating: tea sickness dataset/bird eye spot/IMG_20220503_154504.jpg  \n",
            "  inflating: tea sickness dataset/bird eye spot/IMG_20220503_154513.jpg  \n",
            "  inflating: tea sickness dataset/bird eye spot/IMG_20220503_154523.jpg  \n",
            "  inflating: tea sickness dataset/bird eye spot/IMG_20220503_154541.jpg  \n",
            "  inflating: tea sickness dataset/bird eye spot/IMG_20220503_154602.jpg  \n",
            "  inflating: tea sickness dataset/bird eye spot/IMG_20220503_154611.jpg  \n",
            "  inflating: tea sickness dataset/bird eye spot/IMG_20220503_154620.jpg  \n",
            "  inflating: tea sickness dataset/bird eye spot/IMG_20220503_154632.jpg  \n",
            "  inflating: tea sickness dataset/bird eye spot/IMG_20220503_154648.jpg  \n",
            "  inflating: tea sickness dataset/bird eye spot/IMG_20220503_154708.jpg  \n",
            "  inflating: tea sickness dataset/bird eye spot/IMG_20220503_154721.jpg  \n",
            "  inflating: tea sickness dataset/bird eye spot/IMG_20220503_154730.jpg  \n",
            "  inflating: tea sickness dataset/bird eye spot/IMG_20220503_154749.jpg  \n",
            "  inflating: tea sickness dataset/bird eye spot/IMG_20220503_154813.jpg  \n",
            "  inflating: tea sickness dataset/bird eye spot/IMG_20220503_154823.jpg  \n",
            "  inflating: tea sickness dataset/bird eye spot/IMG_20220503_154835.jpg  \n",
            "  inflating: tea sickness dataset/bird eye spot/IMG_20220503_154842.jpg  \n",
            "  inflating: tea sickness dataset/bird eye spot/IMG_20220503_154851.jpg  \n",
            "  inflating: tea sickness dataset/bird eye spot/IMG_20220503_155014.jpg  \n",
            "  inflating: tea sickness dataset/bird eye spot/IMG_20220503_155022.jpg  \n",
            "  inflating: tea sickness dataset/bird eye spot/IMG_20220503_155039.jpg  \n",
            "  inflating: tea sickness dataset/bird eye spot/IMG_20220503_155054.jpg  \n",
            "  inflating: tea sickness dataset/bird eye spot/IMG_20220503_155113.jpg  \n",
            "  inflating: tea sickness dataset/bird eye spot/IMG_20220503_155122.jpg  \n",
            "  inflating: tea sickness dataset/bird eye spot/IMG_20220503_155153.jpg  \n",
            "  inflating: tea sickness dataset/bird eye spot/IMG_20220503_155208.jpg  \n",
            "  inflating: tea sickness dataset/bird eye spot/IMG_20220503_155217.jpg  \n",
            "  inflating: tea sickness dataset/bird eye spot/IMG_20220503_155227.jpg  \n",
            "  inflating: tea sickness dataset/bird eye spot/IMG_20220503_155244.jpg  \n",
            "  inflating: tea sickness dataset/bird eye spot/IMG_20220503_155255.jpg  \n",
            "  inflating: tea sickness dataset/bird eye spot/IMG_20220503_155303.jpg  \n",
            "  inflating: tea sickness dataset/bird eye spot/IMG_20220503_155330.jpg  \n",
            "  inflating: tea sickness dataset/bird eye spot/IMG_20220503_155355.jpg  \n",
            "  inflating: tea sickness dataset/bird eye spot/IMG_20220503_155412.jpg  \n",
            "  inflating: tea sickness dataset/bird eye spot/IMG_20220503_155436.jpg  \n",
            "  inflating: tea sickness dataset/bird eye spot/IMG_20220503_155446.jpg  \n",
            "  inflating: tea sickness dataset/bird eye spot/IMG_20220503_155452.jpg  \n",
            "  inflating: tea sickness dataset/bird eye spot/IMG_20220503_155459.jpg  \n",
            "  inflating: tea sickness dataset/bird eye spot/IMG_20220503_155509.jpg  \n",
            "  inflating: tea sickness dataset/bird eye spot/IMG_20220503_155526.jpg  \n",
            "  inflating: tea sickness dataset/bird eye spot/IMG_20220503_155544.jpg  \n",
            "  inflating: tea sickness dataset/bird eye spot/IMG_20220503_155557.jpg  \n",
            "  inflating: tea sickness dataset/bird eye spot/IMG_20220503_155620.jpg  \n",
            "  inflating: tea sickness dataset/bird eye spot/IMG_20220503_155627.jpg  \n",
            "  inflating: tea sickness dataset/bird eye spot/IMG_20220503_155635.jpg  \n",
            "  inflating: tea sickness dataset/bird eye spot/IMG_20220503_155641.jpg  \n",
            "  inflating: tea sickness dataset/bird eye spot/IMG_20220503_155647.jpg  \n",
            "  inflating: tea sickness dataset/bird eye spot/IMG_20220503_155650.jpg  \n",
            "  inflating: tea sickness dataset/bird eye spot/IMG_20220503_155707.jpg  \n",
            "  inflating: tea sickness dataset/bird eye spot/IMG_20220503_155715.jpg  \n",
            "  inflating: tea sickness dataset/bird eye spot/IMG_20220503_155733.jpg  \n",
            "  inflating: tea sickness dataset/bird eye spot/IMG_20220503_155741.jpg  \n",
            "  inflating: tea sickness dataset/bird eye spot/IMG_20220503_155748.jpg  \n",
            "  inflating: tea sickness dataset/bird eye spot/IMG_20220503_155800.jpg  \n",
            "  inflating: tea sickness dataset/bird eye spot/IMG_20220503_155807.jpg  \n",
            "  inflating: tea sickness dataset/bird eye spot/IMG_20220503_155833.jpg  \n",
            "  inflating: tea sickness dataset/bird eye spot/IMG_20220503_155849.jpg  \n",
            "  inflating: tea sickness dataset/bird eye spot/IMG_20220503_160452.jpg  \n",
            "  inflating: tea sickness dataset/bird eye spot/IMG_20220503_160502.jpg  \n",
            "  inflating: tea sickness dataset/bird eye spot/IMG_20220503_160510.jpg  \n",
            "  inflating: tea sickness dataset/bird eye spot/IMG_20220503_160518.jpg  \n",
            "  inflating: tea sickness dataset/bird eye spot/IMG_20220503_160532.jpg  \n",
            "  inflating: tea sickness dataset/bird eye spot/IMG_20220503_160546.jpg  \n",
            "  inflating: tea sickness dataset/bird eye spot/IMG_20220503_160558.jpg  \n",
            "  inflating: tea sickness dataset/bird eye spot/IMG_20220503_160616.jpg  \n",
            "  inflating: tea sickness dataset/bird eye spot/IMG_20220503_160625.jpg  \n",
            "  inflating: tea sickness dataset/bird eye spot/IMG_20220503_160703.jpg  \n",
            "  inflating: tea sickness dataset/bird eye spot/IMG_20220503_160713.jpg  \n",
            "  inflating: tea sickness dataset/bird eye spot/IMG_20220503_160722.jpg  \n",
            "  inflating: tea sickness dataset/bird eye spot/IMG_20220503_160734.jpg  \n",
            "  inflating: tea sickness dataset/bird eye spot/IMG_20220503_160802.jpg  \n",
            "  inflating: tea sickness dataset/bird eye spot/IMG_20220503_160809.jpg  \n",
            "  inflating: tea sickness dataset/bird eye spot/IMG_20220503_160824.jpg  \n",
            "  inflating: tea sickness dataset/bird eye spot/IMG_20220503_160833.jpg  \n",
            "  inflating: tea sickness dataset/bird eye spot/IMG_20220503_161146.jpg  \n",
            "  inflating: tea sickness dataset/bird eye spot/IMG_20220503_161157.jpg  \n",
            "  inflating: tea sickness dataset/bird eye spot/IMG_20220503_161217.jpg  \n",
            "  inflating: tea sickness dataset/bird eye spot/IMG_20220503_161232.jpg  \n",
            "  inflating: tea sickness dataset/bird eye spot/IMG_20220503_161322.jpg  \n",
            "  inflating: tea sickness dataset/bird eye spot/IMG_20220503_161333.jpg  \n",
            "  inflating: tea sickness dataset/brown blight/UNADJUSTEDNONRAW_thumb_102.jpg  \n",
            "  inflating: tea sickness dataset/brown blight/UNADJUSTEDNONRAW_thumb_103.jpg  \n",
            "  inflating: tea sickness dataset/brown blight/UNADJUSTEDNONRAW_thumb_104.jpg  \n",
            "  inflating: tea sickness dataset/brown blight/UNADJUSTEDNONRAW_thumb_105.jpg  \n",
            "  inflating: tea sickness dataset/brown blight/UNADJUSTEDNONRAW_thumb_106.jpg  \n",
            "  inflating: tea sickness dataset/brown blight/UNADJUSTEDNONRAW_thumb_107.jpg  \n",
            "  inflating: tea sickness dataset/brown blight/UNADJUSTEDNONRAW_thumb_108.jpg  \n",
            "  inflating: tea sickness dataset/brown blight/UNADJUSTEDNONRAW_thumb_109.jpg  \n",
            "  inflating: tea sickness dataset/brown blight/UNADJUSTEDNONRAW_thumb_10a.jpg  \n",
            "  inflating: tea sickness dataset/brown blight/UNADJUSTEDNONRAW_thumb_10b.jpg  \n",
            "  inflating: tea sickness dataset/brown blight/UNADJUSTEDNONRAW_thumb_10c.jpg  \n",
            "  inflating: tea sickness dataset/brown blight/UNADJUSTEDNONRAW_thumb_10d.jpg  \n",
            "  inflating: tea sickness dataset/brown blight/UNADJUSTEDNONRAW_thumb_10e.jpg  \n",
            "  inflating: tea sickness dataset/brown blight/UNADJUSTEDNONRAW_thumb_10f.jpg  \n",
            "  inflating: tea sickness dataset/brown blight/UNADJUSTEDNONRAW_thumb_110.jpg  \n",
            "  inflating: tea sickness dataset/brown blight/UNADJUSTEDNONRAW_thumb_111.jpg  \n",
            "  inflating: tea sickness dataset/brown blight/UNADJUSTEDNONRAW_thumb_112.jpg  \n",
            "  inflating: tea sickness dataset/brown blight/UNADJUSTEDNONRAW_thumb_113.jpg  \n",
            "  inflating: tea sickness dataset/brown blight/UNADJUSTEDNONRAW_thumb_114.jpg  \n",
            "  inflating: tea sickness dataset/brown blight/UNADJUSTEDNONRAW_thumb_115.jpg  \n",
            "  inflating: tea sickness dataset/brown blight/UNADJUSTEDNONRAW_thumb_116.jpg  \n",
            "  inflating: tea sickness dataset/brown blight/UNADJUSTEDNONRAW_thumb_117.jpg  \n",
            "  inflating: tea sickness dataset/brown blight/UNADJUSTEDNONRAW_thumb_118.jpg  \n",
            "  inflating: tea sickness dataset/brown blight/UNADJUSTEDNONRAW_thumb_119.jpg  \n",
            "  inflating: tea sickness dataset/brown blight/UNADJUSTEDNONRAW_thumb_11a.jpg  \n",
            "  inflating: tea sickness dataset/brown blight/UNADJUSTEDNONRAW_thumb_11b.jpg  \n",
            "  inflating: tea sickness dataset/brown blight/UNADJUSTEDNONRAW_thumb_11c.jpg  \n",
            "  inflating: tea sickness dataset/brown blight/UNADJUSTEDNONRAW_thumb_11d.jpg  \n",
            "  inflating: tea sickness dataset/brown blight/UNADJUSTEDNONRAW_thumb_11e.jpg  \n",
            "  inflating: tea sickness dataset/brown blight/UNADJUSTEDNONRAW_thumb_11f.jpg  \n",
            "  inflating: tea sickness dataset/brown blight/UNADJUSTEDNONRAW_thumb_120.jpg  \n",
            "  inflating: tea sickness dataset/brown blight/UNADJUSTEDNONRAW_thumb_121.jpg  \n",
            "  inflating: tea sickness dataset/brown blight/UNADJUSTEDNONRAW_thumb_122.jpg  \n",
            "  inflating: tea sickness dataset/brown blight/UNADJUSTEDNONRAW_thumb_123.jpg  \n",
            "  inflating: tea sickness dataset/brown blight/UNADJUSTEDNONRAW_thumb_124.jpg  \n",
            "  inflating: tea sickness dataset/brown blight/UNADJUSTEDNONRAW_thumb_125.jpg  \n",
            "  inflating: tea sickness dataset/brown blight/UNADJUSTEDNONRAW_thumb_126.jpg  \n",
            "  inflating: tea sickness dataset/brown blight/UNADJUSTEDNONRAW_thumb_127.jpg  \n",
            "  inflating: tea sickness dataset/brown blight/UNADJUSTEDNONRAW_thumb_128.jpg  \n",
            "  inflating: tea sickness dataset/brown blight/UNADJUSTEDNONRAW_thumb_129.jpg  \n",
            "  inflating: tea sickness dataset/brown blight/UNADJUSTEDNONRAW_thumb_12a.jpg  \n",
            "  inflating: tea sickness dataset/brown blight/UNADJUSTEDNONRAW_thumb_12b.jpg  \n",
            "  inflating: tea sickness dataset/brown blight/UNADJUSTEDNONRAW_thumb_12c.jpg  \n",
            "  inflating: tea sickness dataset/brown blight/UNADJUSTEDNONRAW_thumb_12d.jpg  \n",
            "  inflating: tea sickness dataset/brown blight/UNADJUSTEDNONRAW_thumb_12e.jpg  \n",
            "  inflating: tea sickness dataset/brown blight/UNADJUSTEDNONRAW_thumb_12f.jpg  \n",
            "  inflating: tea sickness dataset/brown blight/UNADJUSTEDNONRAW_thumb_130.jpg  \n",
            "  inflating: tea sickness dataset/brown blight/UNADJUSTEDNONRAW_thumb_131.jpg  \n",
            "  inflating: tea sickness dataset/brown blight/UNADJUSTEDNONRAW_thumb_132.jpg  \n",
            "  inflating: tea sickness dataset/brown blight/UNADJUSTEDNONRAW_thumb_133.jpg  \n",
            "  inflating: tea sickness dataset/brown blight/UNADJUSTEDNONRAW_thumb_134.jpg  \n",
            "  inflating: tea sickness dataset/brown blight/UNADJUSTEDNONRAW_thumb_135.jpg  \n",
            "  inflating: tea sickness dataset/brown blight/UNADJUSTEDNONRAW_thumb_136.jpg  \n",
            "  inflating: tea sickness dataset/brown blight/UNADJUSTEDNONRAW_thumb_137.jpg  \n",
            "  inflating: tea sickness dataset/brown blight/UNADJUSTEDNONRAW_thumb_138.jpg  \n",
            "  inflating: tea sickness dataset/brown blight/UNADJUSTEDNONRAW_thumb_139.jpg  \n",
            "  inflating: tea sickness dataset/brown blight/UNADJUSTEDNONRAW_thumb_13a.jpg  \n",
            "  inflating: tea sickness dataset/brown blight/UNADJUSTEDNONRAW_thumb_13b.jpg  \n",
            "  inflating: tea sickness dataset/brown blight/UNADJUSTEDNONRAW_thumb_13c.jpg  \n",
            "  inflating: tea sickness dataset/brown blight/UNADJUSTEDNONRAW_thumb_13d.jpg  \n",
            "  inflating: tea sickness dataset/brown blight/UNADJUSTEDNONRAW_thumb_13e.jpg  \n",
            "  inflating: tea sickness dataset/brown blight/UNADJUSTEDNONRAW_thumb_13f.jpg  \n",
            "  inflating: tea sickness dataset/brown blight/UNADJUSTEDNONRAW_thumb_140.jpg  \n",
            "  inflating: tea sickness dataset/brown blight/UNADJUSTEDNONRAW_thumb_141.jpg  \n",
            "  inflating: tea sickness dataset/brown blight/UNADJUSTEDNONRAW_thumb_142.jpg  \n",
            "  inflating: tea sickness dataset/brown blight/UNADJUSTEDNONRAW_thumb_143.jpg  \n",
            "  inflating: tea sickness dataset/brown blight/UNADJUSTEDNONRAW_thumb_144.jpg  \n",
            "  inflating: tea sickness dataset/brown blight/UNADJUSTEDNONRAW_thumb_145.jpg  \n",
            "  inflating: tea sickness dataset/brown blight/UNADJUSTEDNONRAW_thumb_146.jpg  \n",
            "  inflating: tea sickness dataset/brown blight/UNADJUSTEDNONRAW_thumb_147.jpg  \n",
            "  inflating: tea sickness dataset/brown blight/UNADJUSTEDNONRAW_thumb_148.jpg  \n",
            "  inflating: tea sickness dataset/brown blight/UNADJUSTEDNONRAW_thumb_149.jpg  \n",
            "  inflating: tea sickness dataset/brown blight/UNADJUSTEDNONRAW_thumb_14a.jpg  \n",
            "  inflating: tea sickness dataset/brown blight/UNADJUSTEDNONRAW_thumb_14b.jpg  \n",
            "  inflating: tea sickness dataset/brown blight/UNADJUSTEDNONRAW_thumb_14c.jpg  \n",
            "  inflating: tea sickness dataset/brown blight/UNADJUSTEDNONRAW_thumb_14d.jpg  \n",
            "  inflating: tea sickness dataset/brown blight/UNADJUSTEDNONRAW_thumb_14e.jpg  \n",
            "  inflating: tea sickness dataset/brown blight/UNADJUSTEDNONRAW_thumb_14f.jpg  \n",
            "  inflating: tea sickness dataset/brown blight/UNADJUSTEDNONRAW_thumb_150.jpg  \n",
            "  inflating: tea sickness dataset/brown blight/UNADJUSTEDNONRAW_thumb_151.jpg  \n",
            "  inflating: tea sickness dataset/brown blight/UNADJUSTEDNONRAW_thumb_152.jpg  \n",
            "  inflating: tea sickness dataset/brown blight/UNADJUSTEDNONRAW_thumb_153.jpg  \n",
            "  inflating: tea sickness dataset/brown blight/UNADJUSTEDNONRAW_thumb_154.jpg  \n",
            "  inflating: tea sickness dataset/brown blight/UNADJUSTEDNONRAW_thumb_155.jpg  \n",
            "  inflating: tea sickness dataset/brown blight/UNADJUSTEDNONRAW_thumb_156.jpg  \n",
            "  inflating: tea sickness dataset/brown blight/UNADJUSTEDNONRAW_thumb_157.jpg  \n",
            "  inflating: tea sickness dataset/brown blight/UNADJUSTEDNONRAW_thumb_158.jpg  \n",
            "  inflating: tea sickness dataset/brown blight/UNADJUSTEDNONRAW_thumb_159.jpg  \n",
            "  inflating: tea sickness dataset/brown blight/UNADJUSTEDNONRAW_thumb_15a.jpg  \n",
            "  inflating: tea sickness dataset/brown blight/UNADJUSTEDNONRAW_thumb_15b.jpg  \n",
            "  inflating: tea sickness dataset/brown blight/UNADJUSTEDNONRAW_thumb_15c.jpg  \n",
            "  inflating: tea sickness dataset/brown blight/UNADJUSTEDNONRAW_thumb_15d.jpg  \n",
            "  inflating: tea sickness dataset/brown blight/UNADJUSTEDNONRAW_thumb_15e.jpg  \n",
            "  inflating: tea sickness dataset/brown blight/UNADJUSTEDNONRAW_thumb_15f.jpg  \n",
            "  inflating: tea sickness dataset/brown blight/UNADJUSTEDNONRAW_thumb_160.jpg  \n",
            "  inflating: tea sickness dataset/brown blight/UNADJUSTEDNONRAW_thumb_161.jpg  \n",
            "  inflating: tea sickness dataset/brown blight/UNADJUSTEDNONRAW_thumb_162.jpg  \n",
            "  inflating: tea sickness dataset/brown blight/UNADJUSTEDNONRAW_thumb_163.jpg  \n",
            "  inflating: tea sickness dataset/brown blight/UNADJUSTEDNONRAW_thumb_164.jpg  \n",
            "  inflating: tea sickness dataset/brown blight/UNADJUSTEDNONRAW_thumb_165.jpg  \n",
            "  inflating: tea sickness dataset/brown blight/UNADJUSTEDNONRAW_thumb_166.jpg  \n",
            "  inflating: tea sickness dataset/brown blight/UNADJUSTEDNONRAW_thumb_167.jpg  \n",
            "  inflating: tea sickness dataset/brown blight/UNADJUSTEDNONRAW_thumb_168.jpg  \n",
            "  inflating: tea sickness dataset/brown blight/UNADJUSTEDNONRAW_thumb_169.jpg  \n",
            "  inflating: tea sickness dataset/brown blight/UNADJUSTEDNONRAW_thumb_16a.jpg  \n",
            "  inflating: tea sickness dataset/brown blight/UNADJUSTEDNONRAW_thumb_16b.jpg  \n",
            "  inflating: tea sickness dataset/brown blight/UNADJUSTEDNONRAW_thumb_16c.jpg  \n",
            "  inflating: tea sickness dataset/brown blight/UNADJUSTEDNONRAW_thumb_16d.jpg  \n",
            "  inflating: tea sickness dataset/brown blight/UNADJUSTEDNONRAW_thumb_16e.jpg  \n",
            "  inflating: tea sickness dataset/brown blight/UNADJUSTEDNONRAW_thumb_16f.jpg  \n",
            "  inflating: tea sickness dataset/brown blight/UNADJUSTEDNONRAW_thumb_170.jpg  \n",
            "  inflating: tea sickness dataset/brown blight/UNADJUSTEDNONRAW_thumb_171.jpg  \n",
            "  inflating: tea sickness dataset/brown blight/UNADJUSTEDNONRAW_thumb_172.jpg  \n",
            "  inflating: tea sickness dataset/gray light/IMG_20220503_135202.jpg  \n",
            "  inflating: tea sickness dataset/gray light/IMG_20220503_135316.jpg  \n",
            "  inflating: tea sickness dataset/gray light/IMG_20220503_135331.jpg  \n",
            "  inflating: tea sickness dataset/gray light/IMG_20220503_135357.jpg  \n",
            "  inflating: tea sickness dataset/gray light/IMG_20220503_135418.jpg  \n",
            "  inflating: tea sickness dataset/gray light/IMG_20220503_135431.jpg  \n",
            "  inflating: tea sickness dataset/gray light/IMG_20220503_135447.jpg  \n",
            "  inflating: tea sickness dataset/gray light/IMG_20220503_135500.jpg  \n",
            "  inflating: tea sickness dataset/gray light/IMG_20220503_135527.jpg  \n",
            "  inflating: tea sickness dataset/gray light/IMG_20220503_135531.jpg  \n",
            "  inflating: tea sickness dataset/gray light/IMG_20220503_135545.jpg  \n",
            "  inflating: tea sickness dataset/gray light/IMG_20220503_135603.jpg  \n",
            "  inflating: tea sickness dataset/gray light/IMG_20220503_135801.jpg  \n",
            "  inflating: tea sickness dataset/gray light/IMG_20220503_135816.jpg  \n",
            "  inflating: tea sickness dataset/gray light/IMG_20220503_135829.jpg  \n",
            "  inflating: tea sickness dataset/gray light/IMG_20220503_135841.jpg  \n",
            "  inflating: tea sickness dataset/gray light/IMG_20220503_135855.jpg  \n",
            "  inflating: tea sickness dataset/gray light/IMG_20220503_135914.jpg  \n",
            "  inflating: tea sickness dataset/gray light/IMG_20220503_135931.jpg  \n",
            "  inflating: tea sickness dataset/gray light/IMG_20220503_135945.jpg  \n",
            "  inflating: tea sickness dataset/gray light/IMG_20220503_140011.jpg  \n",
            "  inflating: tea sickness dataset/gray light/IMG_20220503_140024.jpg  \n",
            "  inflating: tea sickness dataset/gray light/IMG_20220503_140101.jpg  \n",
            "  inflating: tea sickness dataset/gray light/IMG_20220503_140131.jpg  \n",
            "  inflating: tea sickness dataset/gray light/IMG_20220503_140149.jpg  \n",
            "  inflating: tea sickness dataset/gray light/IMG_20220503_140423.jpg  \n",
            "  inflating: tea sickness dataset/gray light/IMG_20220503_140433.jpg  \n",
            "  inflating: tea sickness dataset/gray light/IMG_20220503_140452.jpg  \n",
            "  inflating: tea sickness dataset/gray light/IMG_20220503_140543.jpg  \n",
            "  inflating: tea sickness dataset/gray light/IMG_20220503_140554.jpg  \n",
            "  inflating: tea sickness dataset/gray light/IMG_20220503_140605.jpg  \n",
            "  inflating: tea sickness dataset/gray light/IMG_20220503_140613.jpg  \n",
            "  inflating: tea sickness dataset/gray light/IMG_20220503_140634.jpg  \n",
            "  inflating: tea sickness dataset/gray light/IMG_20220503_140644.jpg  \n",
            "  inflating: tea sickness dataset/gray light/IMG_20220503_140656.jpg  \n",
            "  inflating: tea sickness dataset/gray light/IMG_20220503_140708.jpg  \n",
            "  inflating: tea sickness dataset/gray light/IMG_20220503_140736.jpg  \n",
            "  inflating: tea sickness dataset/gray light/IMG_20220503_140849.jpg  \n",
            "  inflating: tea sickness dataset/gray light/IMG_20220503_140906.jpg  \n",
            "  inflating: tea sickness dataset/gray light/IMG_20220503_140914.jpg  \n",
            "  inflating: tea sickness dataset/gray light/IMG_20220503_140926.jpg  \n",
            "  inflating: tea sickness dataset/gray light/IMG_20220503_140952.jpg  \n",
            "  inflating: tea sickness dataset/gray light/IMG_20220503_141005.jpg  \n",
            "  inflating: tea sickness dataset/gray light/IMG_20220503_141035.jpg  \n",
            "  inflating: tea sickness dataset/gray light/IMG_20220503_141045.jpg  \n",
            "  inflating: tea sickness dataset/gray light/IMG_20220503_141057.jpg  \n",
            "  inflating: tea sickness dataset/gray light/IMG_20220503_141106.jpg  \n",
            "  inflating: tea sickness dataset/gray light/IMG_20220503_141118.jpg  \n",
            "  inflating: tea sickness dataset/gray light/IMG_20220503_141135.jpg  \n",
            "  inflating: tea sickness dataset/gray light/IMG_20220503_141147.jpg  \n",
            "  inflating: tea sickness dataset/gray light/IMG_20220503_141204.jpg  \n",
            "  inflating: tea sickness dataset/gray light/IMG_20220503_141224.jpg  \n",
            "  inflating: tea sickness dataset/gray light/IMG_20220503_141236.jpg  \n",
            "  inflating: tea sickness dataset/gray light/IMG_20220503_141252.jpg  \n",
            "  inflating: tea sickness dataset/gray light/IMG_20220503_141307.jpg  \n",
            "  inflating: tea sickness dataset/gray light/IMG_20220503_141320.jpg  \n",
            "  inflating: tea sickness dataset/gray light/IMG_20220503_141332.jpg  \n",
            "  inflating: tea sickness dataset/gray light/IMG_20220503_141342.jpg  \n",
            "  inflating: tea sickness dataset/gray light/IMG_20220503_141402.jpg  \n",
            "  inflating: tea sickness dataset/gray light/IMG_20220503_141414.jpg  \n",
            "  inflating: tea sickness dataset/gray light/IMG_20220503_141444.jpg  \n",
            "  inflating: tea sickness dataset/gray light/IMG_20220503_141503.jpg  \n",
            "  inflating: tea sickness dataset/gray light/IMG_20220503_141518.jpg  \n",
            "  inflating: tea sickness dataset/gray light/IMG_20220503_141531.jpg  \n",
            "  inflating: tea sickness dataset/gray light/IMG_20220503_141616.jpg  \n",
            "  inflating: tea sickness dataset/gray light/IMG_20220503_141626.jpg  \n",
            "  inflating: tea sickness dataset/gray light/IMG_20220503_141635.jpg  \n",
            "  inflating: tea sickness dataset/gray light/IMG_20220503_141642.jpg  \n",
            "  inflating: tea sickness dataset/gray light/IMG_20220503_141651.jpg  \n",
            "  inflating: tea sickness dataset/gray light/IMG_20220503_141709.jpg  \n",
            "  inflating: tea sickness dataset/gray light/IMG_20220503_141728.jpg  \n",
            "  inflating: tea sickness dataset/gray light/IMG_20220503_141741.jpg  \n",
            "  inflating: tea sickness dataset/gray light/IMG_20220503_141757.jpg  \n",
            "  inflating: tea sickness dataset/gray light/IMG_20220503_141813.jpg  \n",
            "  inflating: tea sickness dataset/gray light/IMG_20220503_141824.jpg  \n",
            "  inflating: tea sickness dataset/gray light/IMG_20220503_141834.jpg  \n",
            "  inflating: tea sickness dataset/gray light/IMG_20220503_141858.jpg  \n",
            "  inflating: tea sickness dataset/gray light/IMG_20220503_141906.jpg  \n",
            "  inflating: tea sickness dataset/gray light/IMG_20220503_141920.jpg  \n",
            "  inflating: tea sickness dataset/gray light/IMG_20220503_141932.jpg  \n",
            "  inflating: tea sickness dataset/gray light/IMG_20220503_141945.jpg  \n",
            "  inflating: tea sickness dataset/gray light/IMG_20220503_141957.jpg  \n",
            "  inflating: tea sickness dataset/gray light/IMG_20220503_142008.jpg  \n",
            "  inflating: tea sickness dataset/gray light/IMG_20220503_142026.jpg  \n",
            "  inflating: tea sickness dataset/gray light/IMG_20220503_142039.jpg  \n",
            "  inflating: tea sickness dataset/gray light/IMG_20220503_142053.jpg  \n",
            "  inflating: tea sickness dataset/gray light/IMG_20220503_142104.jpg  \n",
            "  inflating: tea sickness dataset/gray light/IMG_20220503_142115.jpg  \n",
            "  inflating: tea sickness dataset/gray light/IMG_20220503_142527.jpg  \n",
            "  inflating: tea sickness dataset/gray light/IMG_20220503_142537.jpg  \n",
            "  inflating: tea sickness dataset/gray light/IMG_20220503_142552.jpg  \n",
            "  inflating: tea sickness dataset/gray light/IMG_20220503_142609.jpg  \n",
            "  inflating: tea sickness dataset/gray light/IMG_20220503_142624.jpg  \n",
            "  inflating: tea sickness dataset/gray light/IMG_20220503_142632 - Copy.jpg  \n",
            "  inflating: tea sickness dataset/gray light/IMG_20220503_142632.jpg  \n",
            "  inflating: tea sickness dataset/gray light/IMG_20220503_142658 - Copy.jpg  \n",
            "  inflating: tea sickness dataset/gray light/IMG_20220503_142658.jpg  \n",
            "  inflating: tea sickness dataset/gray light/IMG_20220503_142832.jpg  \n",
            "  inflating: tea sickness dataset/gray light/IMG_20220503_142842.jpg  \n",
            "  inflating: tea sickness dataset/gray light/IMG_20220503_142852.jpg  \n",
            "  inflating: tea sickness dataset/healthy/UNADJUSTEDNONRAW_thumb_206.jpg  \n",
            "  inflating: tea sickness dataset/healthy/UNADJUSTEDNONRAW_thumb_207.jpg  \n",
            "  inflating: tea sickness dataset/healthy/UNADJUSTEDNONRAW_thumb_208.jpg  \n",
            "  inflating: tea sickness dataset/healthy/UNADJUSTEDNONRAW_thumb_209.jpg  \n",
            "  inflating: tea sickness dataset/healthy/UNADJUSTEDNONRAW_thumb_20a.jpg  \n",
            "  inflating: tea sickness dataset/healthy/UNADJUSTEDNONRAW_thumb_20b.jpg  \n",
            "  inflating: tea sickness dataset/healthy/UNADJUSTEDNONRAW_thumb_20c.jpg  \n",
            "  inflating: tea sickness dataset/healthy/UNADJUSTEDNONRAW_thumb_20d.jpg  \n",
            "  inflating: tea sickness dataset/healthy/UNADJUSTEDNONRAW_thumb_20e.jpg  \n",
            "  inflating: tea sickness dataset/healthy/UNADJUSTEDNONRAW_thumb_20f.jpg  \n",
            "  inflating: tea sickness dataset/healthy/UNADJUSTEDNONRAW_thumb_210.jpg  \n",
            "  inflating: tea sickness dataset/healthy/UNADJUSTEDNONRAW_thumb_211.jpg  \n",
            "  inflating: tea sickness dataset/healthy/UNADJUSTEDNONRAW_thumb_212.jpg  \n",
            "  inflating: tea sickness dataset/healthy/UNADJUSTEDNONRAW_thumb_213.jpg  \n",
            "  inflating: tea sickness dataset/healthy/UNADJUSTEDNONRAW_thumb_214.jpg  \n",
            "  inflating: tea sickness dataset/healthy/UNADJUSTEDNONRAW_thumb_215.jpg  \n",
            "  inflating: tea sickness dataset/healthy/UNADJUSTEDNONRAW_thumb_216.jpg  \n",
            "  inflating: tea sickness dataset/healthy/UNADJUSTEDNONRAW_thumb_217.jpg  \n",
            "  inflating: tea sickness dataset/healthy/UNADJUSTEDNONRAW_thumb_218.jpg  \n",
            "  inflating: tea sickness dataset/healthy/UNADJUSTEDNONRAW_thumb_219.jpg  \n",
            "  inflating: tea sickness dataset/healthy/UNADJUSTEDNONRAW_thumb_21a.jpg  \n",
            "  inflating: tea sickness dataset/healthy/UNADJUSTEDNONRAW_thumb_21b.jpg  \n",
            "  inflating: tea sickness dataset/healthy/UNADJUSTEDNONRAW_thumb_21c.jpg  \n",
            "  inflating: tea sickness dataset/healthy/UNADJUSTEDNONRAW_thumb_21d.jpg  \n",
            "  inflating: tea sickness dataset/healthy/UNADJUSTEDNONRAW_thumb_21e.jpg  \n",
            "  inflating: tea sickness dataset/healthy/UNADJUSTEDNONRAW_thumb_21f.jpg  \n",
            "  inflating: tea sickness dataset/healthy/UNADJUSTEDNONRAW_thumb_220.jpg  \n",
            "  inflating: tea sickness dataset/healthy/UNADJUSTEDNONRAW_thumb_221.jpg  \n",
            "  inflating: tea sickness dataset/healthy/UNADJUSTEDNONRAW_thumb_222.jpg  \n",
            "  inflating: tea sickness dataset/healthy/UNADJUSTEDNONRAW_thumb_223.jpg  \n",
            "  inflating: tea sickness dataset/healthy/UNADJUSTEDNONRAW_thumb_224.jpg  \n",
            "  inflating: tea sickness dataset/healthy/UNADJUSTEDNONRAW_thumb_225.jpg  \n",
            "  inflating: tea sickness dataset/healthy/UNADJUSTEDNONRAW_thumb_226.jpg  \n",
            "  inflating: tea sickness dataset/healthy/UNADJUSTEDNONRAW_thumb_227.jpg  \n",
            "  inflating: tea sickness dataset/healthy/UNADJUSTEDNONRAW_thumb_228.jpg  \n",
            "  inflating: tea sickness dataset/healthy/UNADJUSTEDNONRAW_thumb_229.jpg  \n",
            "  inflating: tea sickness dataset/healthy/UNADJUSTEDNONRAW_thumb_22a.jpg  \n",
            "  inflating: tea sickness dataset/healthy/UNADJUSTEDNONRAW_thumb_22b.jpg  \n",
            "  inflating: tea sickness dataset/healthy/UNADJUSTEDNONRAW_thumb_22c.jpg  \n",
            "  inflating: tea sickness dataset/healthy/UNADJUSTEDNONRAW_thumb_22d.jpg  \n",
            "  inflating: tea sickness dataset/healthy/UNADJUSTEDNONRAW_thumb_22e.jpg  \n",
            "  inflating: tea sickness dataset/healthy/UNADJUSTEDNONRAW_thumb_22f.jpg  \n",
            "  inflating: tea sickness dataset/healthy/UNADJUSTEDNONRAW_thumb_230.jpg  \n",
            "  inflating: tea sickness dataset/healthy/UNADJUSTEDNONRAW_thumb_231.jpg  \n",
            "  inflating: tea sickness dataset/healthy/UNADJUSTEDNONRAW_thumb_232.jpg  \n",
            "  inflating: tea sickness dataset/healthy/UNADJUSTEDNONRAW_thumb_233.jpg  \n",
            "  inflating: tea sickness dataset/healthy/UNADJUSTEDNONRAW_thumb_234.jpg  \n",
            "  inflating: tea sickness dataset/healthy/UNADJUSTEDNONRAW_thumb_235.jpg  \n",
            "  inflating: tea sickness dataset/healthy/UNADJUSTEDNONRAW_thumb_236.jpg  \n",
            "  inflating: tea sickness dataset/healthy/UNADJUSTEDNONRAW_thumb_237.jpg  \n",
            "  inflating: tea sickness dataset/healthy/UNADJUSTEDNONRAW_thumb_238.jpg  \n",
            "  inflating: tea sickness dataset/healthy/UNADJUSTEDNONRAW_thumb_239.jpg  \n",
            "  inflating: tea sickness dataset/healthy/UNADJUSTEDNONRAW_thumb_23a.jpg  \n",
            "  inflating: tea sickness dataset/healthy/UNADJUSTEDNONRAW_thumb_23b.jpg  \n",
            "  inflating: tea sickness dataset/healthy/UNADJUSTEDNONRAW_thumb_23c.jpg  \n",
            "  inflating: tea sickness dataset/healthy/UNADJUSTEDNONRAW_thumb_23d.jpg  \n",
            "  inflating: tea sickness dataset/healthy/UNADJUSTEDNONRAW_thumb_23e.jpg  \n",
            "  inflating: tea sickness dataset/healthy/UNADJUSTEDNONRAW_thumb_23f.jpg  \n",
            "  inflating: tea sickness dataset/healthy/UNADJUSTEDNONRAW_thumb_240.jpg  \n",
            "  inflating: tea sickness dataset/healthy/UNADJUSTEDNONRAW_thumb_241.jpg  \n",
            "  inflating: tea sickness dataset/healthy/UNADJUSTEDNONRAW_thumb_242.jpg  \n",
            "  inflating: tea sickness dataset/healthy/UNADJUSTEDNONRAW_thumb_243.jpg  \n",
            "  inflating: tea sickness dataset/healthy/UNADJUSTEDNONRAW_thumb_244.jpg  \n",
            "  inflating: tea sickness dataset/healthy/UNADJUSTEDNONRAW_thumb_245.jpg  \n",
            "  inflating: tea sickness dataset/healthy/UNADJUSTEDNONRAW_thumb_246.jpg  \n",
            "  inflating: tea sickness dataset/healthy/UNADJUSTEDNONRAW_thumb_247.jpg  \n",
            "  inflating: tea sickness dataset/healthy/UNADJUSTEDNONRAW_thumb_248.jpg  \n",
            "  inflating: tea sickness dataset/healthy/UNADJUSTEDNONRAW_thumb_249.jpg  \n",
            "  inflating: tea sickness dataset/healthy/UNADJUSTEDNONRAW_thumb_24a.jpg  \n",
            "  inflating: tea sickness dataset/healthy/UNADJUSTEDNONRAW_thumb_24b.jpg  \n",
            "  inflating: tea sickness dataset/healthy/UNADJUSTEDNONRAW_thumb_24c.jpg  \n",
            "  inflating: tea sickness dataset/healthy/UNADJUSTEDNONRAW_thumb_24d.jpg  \n",
            "  inflating: tea sickness dataset/healthy/UNADJUSTEDNONRAW_thumb_24e.jpg  \n",
            "  inflating: tea sickness dataset/healthy/UNADJUSTEDNONRAW_thumb_24f.jpg  \n",
            "  inflating: tea sickness dataset/red leaf spot/UNADJUSTEDNONRAW_thumb_177.jpg  \n",
            "  inflating: tea sickness dataset/red leaf spot/UNADJUSTEDNONRAW_thumb_178.jpg  \n",
            "  inflating: tea sickness dataset/red leaf spot/UNADJUSTEDNONRAW_thumb_179.jpg  \n",
            "  inflating: tea sickness dataset/red leaf spot/UNADJUSTEDNONRAW_thumb_17a.jpg  \n",
            "  inflating: tea sickness dataset/red leaf spot/UNADJUSTEDNONRAW_thumb_17b.jpg  \n",
            "  inflating: tea sickness dataset/red leaf spot/UNADJUSTEDNONRAW_thumb_17c.jpg  \n",
            "  inflating: tea sickness dataset/red leaf spot/UNADJUSTEDNONRAW_thumb_17d.jpg  \n",
            "  inflating: tea sickness dataset/red leaf spot/UNADJUSTEDNONRAW_thumb_17e.jpg  \n",
            "  inflating: tea sickness dataset/red leaf spot/UNADJUSTEDNONRAW_thumb_17f.jpg  \n",
            "  inflating: tea sickness dataset/red leaf spot/UNADJUSTEDNONRAW_thumb_180.jpg  \n",
            "  inflating: tea sickness dataset/red leaf spot/UNADJUSTEDNONRAW_thumb_181.jpg  \n",
            "  inflating: tea sickness dataset/red leaf spot/UNADJUSTEDNONRAW_thumb_182.jpg  \n",
            "  inflating: tea sickness dataset/red leaf spot/UNADJUSTEDNONRAW_thumb_183.jpg  \n",
            "  inflating: tea sickness dataset/red leaf spot/UNADJUSTEDNONRAW_thumb_184.jpg  \n",
            "  inflating: tea sickness dataset/red leaf spot/UNADJUSTEDNONRAW_thumb_185.jpg  \n",
            "  inflating: tea sickness dataset/red leaf spot/UNADJUSTEDNONRAW_thumb_186.jpg  \n",
            "  inflating: tea sickness dataset/red leaf spot/UNADJUSTEDNONRAW_thumb_187.jpg  \n",
            "  inflating: tea sickness dataset/red leaf spot/UNADJUSTEDNONRAW_thumb_188.jpg  \n",
            "  inflating: tea sickness dataset/red leaf spot/UNADJUSTEDNONRAW_thumb_189.jpg  \n",
            "  inflating: tea sickness dataset/red leaf spot/UNADJUSTEDNONRAW_thumb_18a.jpg  \n",
            "  inflating: tea sickness dataset/red leaf spot/UNADJUSTEDNONRAW_thumb_18b.jpg  \n",
            "  inflating: tea sickness dataset/red leaf spot/UNADJUSTEDNONRAW_thumb_18c.jpg  \n",
            "  inflating: tea sickness dataset/red leaf spot/UNADJUSTEDNONRAW_thumb_18d.jpg  \n",
            "  inflating: tea sickness dataset/red leaf spot/UNADJUSTEDNONRAW_thumb_18e.jpg  \n",
            "  inflating: tea sickness dataset/red leaf spot/UNADJUSTEDNONRAW_thumb_18f.jpg  \n",
            "  inflating: tea sickness dataset/red leaf spot/UNADJUSTEDNONRAW_thumb_190.jpg  \n",
            "  inflating: tea sickness dataset/red leaf spot/UNADJUSTEDNONRAW_thumb_191.jpg  \n",
            "  inflating: tea sickness dataset/red leaf spot/UNADJUSTEDNONRAW_thumb_192.jpg  \n",
            "  inflating: tea sickness dataset/red leaf spot/UNADJUSTEDNONRAW_thumb_193.jpg  \n",
            "  inflating: tea sickness dataset/red leaf spot/UNADJUSTEDNONRAW_thumb_194.jpg  \n",
            "  inflating: tea sickness dataset/red leaf spot/UNADJUSTEDNONRAW_thumb_195.jpg  \n",
            "  inflating: tea sickness dataset/red leaf spot/UNADJUSTEDNONRAW_thumb_196.jpg  \n",
            "  inflating: tea sickness dataset/red leaf spot/UNADJUSTEDNONRAW_thumb_197.jpg  \n",
            "  inflating: tea sickness dataset/red leaf spot/UNADJUSTEDNONRAW_thumb_198.jpg  \n",
            "  inflating: tea sickness dataset/red leaf spot/UNADJUSTEDNONRAW_thumb_199.jpg  \n",
            "  inflating: tea sickness dataset/red leaf spot/UNADJUSTEDNONRAW_thumb_19a.jpg  \n",
            "  inflating: tea sickness dataset/red leaf spot/UNADJUSTEDNONRAW_thumb_19b.jpg  \n",
            "  inflating: tea sickness dataset/red leaf spot/UNADJUSTEDNONRAW_thumb_19c.jpg  \n",
            "  inflating: tea sickness dataset/red leaf spot/UNADJUSTEDNONRAW_thumb_19d.jpg  \n",
            "  inflating: tea sickness dataset/red leaf spot/UNADJUSTEDNONRAW_thumb_19e.jpg  \n",
            "  inflating: tea sickness dataset/red leaf spot/UNADJUSTEDNONRAW_thumb_19f.jpg  \n",
            "  inflating: tea sickness dataset/red leaf spot/UNADJUSTEDNONRAW_thumb_1a0.jpg  \n",
            "  inflating: tea sickness dataset/red leaf spot/UNADJUSTEDNONRAW_thumb_1a1.jpg  \n",
            "  inflating: tea sickness dataset/red leaf spot/UNADJUSTEDNONRAW_thumb_1a2.jpg  \n",
            "  inflating: tea sickness dataset/red leaf spot/UNADJUSTEDNONRAW_thumb_1a3.jpg  \n",
            "  inflating: tea sickness dataset/red leaf spot/UNADJUSTEDNONRAW_thumb_1a4.jpg  \n",
            "  inflating: tea sickness dataset/red leaf spot/UNADJUSTEDNONRAW_thumb_1a5.jpg  \n",
            "  inflating: tea sickness dataset/red leaf spot/UNADJUSTEDNONRAW_thumb_1a6.jpg  \n",
            "  inflating: tea sickness dataset/red leaf spot/UNADJUSTEDNONRAW_thumb_1a7.jpg  \n",
            "  inflating: tea sickness dataset/red leaf spot/UNADJUSTEDNONRAW_thumb_1a8.jpg  \n",
            "  inflating: tea sickness dataset/red leaf spot/UNADJUSTEDNONRAW_thumb_1a9.jpg  \n",
            "  inflating: tea sickness dataset/red leaf spot/UNADJUSTEDNONRAW_thumb_1aa.jpg  \n",
            "  inflating: tea sickness dataset/red leaf spot/UNADJUSTEDNONRAW_thumb_1ab.jpg  \n",
            "  inflating: tea sickness dataset/red leaf spot/UNADJUSTEDNONRAW_thumb_1ac.jpg  \n",
            "  inflating: tea sickness dataset/red leaf spot/UNADJUSTEDNONRAW_thumb_1ad.jpg  \n",
            "  inflating: tea sickness dataset/red leaf spot/UNADJUSTEDNONRAW_thumb_1ae.jpg  \n",
            "  inflating: tea sickness dataset/red leaf spot/UNADJUSTEDNONRAW_thumb_1af.jpg  \n",
            "  inflating: tea sickness dataset/red leaf spot/UNADJUSTEDNONRAW_thumb_1b0.jpg  \n",
            "  inflating: tea sickness dataset/red leaf spot/UNADJUSTEDNONRAW_thumb_1b1.jpg  \n",
            "  inflating: tea sickness dataset/red leaf spot/UNADJUSTEDNONRAW_thumb_1b2.jpg  \n",
            "  inflating: tea sickness dataset/red leaf spot/UNADJUSTEDNONRAW_thumb_1b3.jpg  \n",
            "  inflating: tea sickness dataset/red leaf spot/UNADJUSTEDNONRAW_thumb_1b4.jpg  \n",
            "  inflating: tea sickness dataset/red leaf spot/UNADJUSTEDNONRAW_thumb_1b5.jpg  \n",
            "  inflating: tea sickness dataset/red leaf spot/UNADJUSTEDNONRAW_thumb_1b6.jpg  \n",
            "  inflating: tea sickness dataset/red leaf spot/UNADJUSTEDNONRAW_thumb_1b7.jpg  \n",
            "  inflating: tea sickness dataset/red leaf spot/UNADJUSTEDNONRAW_thumb_1b8.jpg  \n",
            "  inflating: tea sickness dataset/red leaf spot/UNADJUSTEDNONRAW_thumb_1b9.jpg  \n",
            "  inflating: tea sickness dataset/red leaf spot/UNADJUSTEDNONRAW_thumb_1ba.jpg  \n",
            "  inflating: tea sickness dataset/red leaf spot/UNADJUSTEDNONRAW_thumb_1bb.jpg  \n",
            "  inflating: tea sickness dataset/red leaf spot/UNADJUSTEDNONRAW_thumb_1bc.jpg  \n",
            "  inflating: tea sickness dataset/red leaf spot/UNADJUSTEDNONRAW_thumb_1bd.jpg  \n",
            "  inflating: tea sickness dataset/red leaf spot/UNADJUSTEDNONRAW_thumb_1be.jpg  \n",
            "  inflating: tea sickness dataset/red leaf spot/UNADJUSTEDNONRAW_thumb_1bf.jpg  \n",
            "  inflating: tea sickness dataset/red leaf spot/UNADJUSTEDNONRAW_thumb_1c0.jpg  \n",
            "  inflating: tea sickness dataset/red leaf spot/UNADJUSTEDNONRAW_thumb_1c1.jpg  \n",
            "  inflating: tea sickness dataset/red leaf spot/UNADJUSTEDNONRAW_thumb_1c2.jpg  \n",
            "  inflating: tea sickness dataset/red leaf spot/UNADJUSTEDNONRAW_thumb_1c3.jpg  \n",
            "  inflating: tea sickness dataset/red leaf spot/UNADJUSTEDNONRAW_thumb_1c4.jpg  \n",
            "  inflating: tea sickness dataset/red leaf spot/UNADJUSTEDNONRAW_thumb_1c5.jpg  \n",
            "  inflating: tea sickness dataset/red leaf spot/UNADJUSTEDNONRAW_thumb_1c6.jpg  \n",
            "  inflating: tea sickness dataset/red leaf spot/UNADJUSTEDNONRAW_thumb_1c7.jpg  \n",
            "  inflating: tea sickness dataset/red leaf spot/UNADJUSTEDNONRAW_thumb_1c8.jpg  \n",
            "  inflating: tea sickness dataset/red leaf spot/UNADJUSTEDNONRAW_thumb_1c9.jpg  \n",
            "  inflating: tea sickness dataset/red leaf spot/UNADJUSTEDNONRAW_thumb_1ca.jpg  \n",
            "  inflating: tea sickness dataset/red leaf spot/UNADJUSTEDNONRAW_thumb_1cb.jpg  \n",
            "  inflating: tea sickness dataset/red leaf spot/UNADJUSTEDNONRAW_thumb_1cc.jpg  \n",
            "  inflating: tea sickness dataset/red leaf spot/UNADJUSTEDNONRAW_thumb_1cd.jpg  \n",
            "  inflating: tea sickness dataset/red leaf spot/UNADJUSTEDNONRAW_thumb_1ce.jpg  \n",
            "  inflating: tea sickness dataset/red leaf spot/UNADJUSTEDNONRAW_thumb_1cf.jpg  \n",
            "  inflating: tea sickness dataset/red leaf spot/UNADJUSTEDNONRAW_thumb_1d0.jpg  \n",
            "  inflating: tea sickness dataset/red leaf spot/UNADJUSTEDNONRAW_thumb_1d1.jpg  \n",
            "  inflating: tea sickness dataset/red leaf spot/UNADJUSTEDNONRAW_thumb_1d2.jpg  \n",
            "  inflating: tea sickness dataset/red leaf spot/UNADJUSTEDNONRAW_thumb_1d3.jpg  \n",
            "  inflating: tea sickness dataset/red leaf spot/UNADJUSTEDNONRAW_thumb_1d4.jpg  \n",
            "  inflating: tea sickness dataset/red leaf spot/UNADJUSTEDNONRAW_thumb_1d5.jpg  \n",
            "  inflating: tea sickness dataset/red leaf spot/UNADJUSTEDNONRAW_thumb_1d6.jpg  \n",
            "  inflating: tea sickness dataset/red leaf spot/UNADJUSTEDNONRAW_thumb_1d7.jpg  \n",
            "  inflating: tea sickness dataset/red leaf spot/UNADJUSTEDNONRAW_thumb_1d8.jpg  \n",
            "  inflating: tea sickness dataset/red leaf spot/UNADJUSTEDNONRAW_thumb_1d9.jpg  \n",
            "  inflating: tea sickness dataset/red leaf spot/UNADJUSTEDNONRAW_thumb_1da.jpg  \n",
            "  inflating: tea sickness dataset/red leaf spot/UNADJUSTEDNONRAW_thumb_1db.jpg  \n",
            "  inflating: tea sickness dataset/red leaf spot/UNADJUSTEDNONRAW_thumb_1dc.jpg  \n",
            "  inflating: tea sickness dataset/red leaf spot/UNADJUSTEDNONRAW_thumb_1dd.jpg  \n",
            "  inflating: tea sickness dataset/red leaf spot/UNADJUSTEDNONRAW_thumb_1de.jpg  \n",
            "  inflating: tea sickness dataset/red leaf spot/UNADJUSTEDNONRAW_thumb_1df.jpg  \n",
            "  inflating: tea sickness dataset/red leaf spot/UNADJUSTEDNONRAW_thumb_1e0.jpg  \n",
            "  inflating: tea sickness dataset/red leaf spot/UNADJUSTEDNONRAW_thumb_1e1.jpg  \n",
            "  inflating: tea sickness dataset/red leaf spot/UNADJUSTEDNONRAW_thumb_1e2.jpg  \n",
            "  inflating: tea sickness dataset/red leaf spot/UNADJUSTEDNONRAW_thumb_1e3.jpg  \n",
            "  inflating: tea sickness dataset/red leaf spot/UNADJUSTEDNONRAW_thumb_1e4.jpg  \n",
            "  inflating: tea sickness dataset/red leaf spot/UNADJUSTEDNONRAW_thumb_1e5.jpg  \n",
            "  inflating: tea sickness dataset/red leaf spot/UNADJUSTEDNONRAW_thumb_1e6.jpg  \n",
            "  inflating: tea sickness dataset/red leaf spot/UNADJUSTEDNONRAW_thumb_1e7.jpg  \n",
            "  inflating: tea sickness dataset/red leaf spot/UNADJUSTEDNONRAW_thumb_1e8.jpg  \n",
            "  inflating: tea sickness dataset/red leaf spot/UNADJUSTEDNONRAW_thumb_1e9.jpg  \n",
            "  inflating: tea sickness dataset/red leaf spot/UNADJUSTEDNONRAW_thumb_1ea.jpg  \n",
            "  inflating: tea sickness dataset/red leaf spot/UNADJUSTEDNONRAW_thumb_1eb.jpg  \n",
            "  inflating: tea sickness dataset/red leaf spot/UNADJUSTEDNONRAW_thumb_1ec.jpg  \n",
            "  inflating: tea sickness dataset/red leaf spot/UNADJUSTEDNONRAW_thumb_1ed.jpg  \n",
            "  inflating: tea sickness dataset/red leaf spot/UNADJUSTEDNONRAW_thumb_1ee.jpg  \n",
            "  inflating: tea sickness dataset/red leaf spot/UNADJUSTEDNONRAW_thumb_1ef.jpg  \n",
            "  inflating: tea sickness dataset/red leaf spot/UNADJUSTEDNONRAW_thumb_1f0.jpg  \n",
            "  inflating: tea sickness dataset/red leaf spot/UNADJUSTEDNONRAW_thumb_1f1.jpg  \n",
            "  inflating: tea sickness dataset/red leaf spot/UNADJUSTEDNONRAW_thumb_1f2.jpg  \n",
            "  inflating: tea sickness dataset/red leaf spot/UNADJUSTEDNONRAW_thumb_1f3.jpg  \n",
            "  inflating: tea sickness dataset/red leaf spot/UNADJUSTEDNONRAW_thumb_1f4.jpg  \n",
            "  inflating: tea sickness dataset/red leaf spot/UNADJUSTEDNONRAW_thumb_1f5.jpg  \n",
            "  inflating: tea sickness dataset/red leaf spot/UNADJUSTEDNONRAW_thumb_1f6.jpg  \n",
            "  inflating: tea sickness dataset/red leaf spot/UNADJUSTEDNONRAW_thumb_1f7.jpg  \n",
            "  inflating: tea sickness dataset/red leaf spot/UNADJUSTEDNONRAW_thumb_1f8.jpg  \n",
            "  inflating: tea sickness dataset/red leaf spot/UNADJUSTEDNONRAW_thumb_1f9.jpg  \n",
            "  inflating: tea sickness dataset/red leaf spot/UNADJUSTEDNONRAW_thumb_1fa.jpg  \n",
            "  inflating: tea sickness dataset/red leaf spot/UNADJUSTEDNONRAW_thumb_1fb.jpg  \n",
            "  inflating: tea sickness dataset/red leaf spot/UNADJUSTEDNONRAW_thumb_1fc.jpg  \n",
            "  inflating: tea sickness dataset/red leaf spot/UNADJUSTEDNONRAW_thumb_1fd.jpg  \n",
            "  inflating: tea sickness dataset/red leaf spot/UNADJUSTEDNONRAW_thumb_1fe.jpg  \n",
            "  inflating: tea sickness dataset/red leaf spot/UNADJUSTEDNONRAW_thumb_1ff.jpg  \n",
            "  inflating: tea sickness dataset/red leaf spot/UNADJUSTEDNONRAW_thumb_200.jpg  \n",
            "  inflating: tea sickness dataset/red leaf spot/UNADJUSTEDNONRAW_thumb_201.jpg  \n",
            "  inflating: tea sickness dataset/red leaf spot/UNADJUSTEDNONRAW_thumb_202.jpg  \n",
            "  inflating: tea sickness dataset/red leaf spot/UNADJUSTEDNONRAW_thumb_203.jpg  \n",
            "  inflating: tea sickness dataset/red leaf spot/UNADJUSTEDNONRAW_thumb_204.jpg  \n",
            "  inflating: tea sickness dataset/red leaf spot/UNADJUSTEDNONRAW_thumb_205.jpg  \n",
            "  inflating: tea sickness dataset/white spot/UNADJUSTEDNONRAW_thumb_100.jpg  \n",
            "  inflating: tea sickness dataset/white spot/UNADJUSTEDNONRAW_thumb_73.jpg  \n",
            "  inflating: tea sickness dataset/white spot/UNADJUSTEDNONRAW_thumb_74.jpg  \n",
            "  inflating: tea sickness dataset/white spot/UNADJUSTEDNONRAW_thumb_75.jpg  \n",
            "  inflating: tea sickness dataset/white spot/UNADJUSTEDNONRAW_thumb_76.jpg  \n",
            "  inflating: tea sickness dataset/white spot/UNADJUSTEDNONRAW_thumb_77.jpg  \n",
            "  inflating: tea sickness dataset/white spot/UNADJUSTEDNONRAW_thumb_78.jpg  \n",
            "  inflating: tea sickness dataset/white spot/UNADJUSTEDNONRAW_thumb_79.jpg  \n",
            "  inflating: tea sickness dataset/white spot/UNADJUSTEDNONRAW_thumb_7a.jpg  \n",
            "  inflating: tea sickness dataset/white spot/UNADJUSTEDNONRAW_thumb_7b.jpg  \n",
            "  inflating: tea sickness dataset/white spot/UNADJUSTEDNONRAW_thumb_7c.jpg  \n",
            "  inflating: tea sickness dataset/white spot/UNADJUSTEDNONRAW_thumb_7d.jpg  \n",
            "  inflating: tea sickness dataset/white spot/UNADJUSTEDNONRAW_thumb_7e.jpg  \n",
            "  inflating: tea sickness dataset/white spot/UNADJUSTEDNONRAW_thumb_7f.jpg  \n",
            "  inflating: tea sickness dataset/white spot/UNADJUSTEDNONRAW_thumb_80.jpg  \n",
            "  inflating: tea sickness dataset/white spot/UNADJUSTEDNONRAW_thumb_81.jpg  \n",
            "  inflating: tea sickness dataset/white spot/UNADJUSTEDNONRAW_thumb_82.jpg  \n",
            "  inflating: tea sickness dataset/white spot/UNADJUSTEDNONRAW_thumb_83.jpg  \n",
            "  inflating: tea sickness dataset/white spot/UNADJUSTEDNONRAW_thumb_84.jpg  \n",
            "  inflating: tea sickness dataset/white spot/UNADJUSTEDNONRAW_thumb_85.jpg  \n",
            "  inflating: tea sickness dataset/white spot/UNADJUSTEDNONRAW_thumb_86.jpg  \n",
            "  inflating: tea sickness dataset/white spot/UNADJUSTEDNONRAW_thumb_87.jpg  \n",
            "  inflating: tea sickness dataset/white spot/UNADJUSTEDNONRAW_thumb_88.jpg  \n",
            "  inflating: tea sickness dataset/white spot/UNADJUSTEDNONRAW_thumb_89.jpg  \n",
            "  inflating: tea sickness dataset/white spot/UNADJUSTEDNONRAW_thumb_8a.jpg  \n",
            "  inflating: tea sickness dataset/white spot/UNADJUSTEDNONRAW_thumb_8b.jpg  \n",
            "  inflating: tea sickness dataset/white spot/UNADJUSTEDNONRAW_thumb_8c.jpg  \n",
            "  inflating: tea sickness dataset/white spot/UNADJUSTEDNONRAW_thumb_8d.jpg  \n",
            "  inflating: tea sickness dataset/white spot/UNADJUSTEDNONRAW_thumb_8e.jpg  \n",
            "  inflating: tea sickness dataset/white spot/UNADJUSTEDNONRAW_thumb_8f.jpg  \n",
            "  inflating: tea sickness dataset/white spot/UNADJUSTEDNONRAW_thumb_90.jpg  \n",
            "  inflating: tea sickness dataset/white spot/UNADJUSTEDNONRAW_thumb_91.jpg  \n",
            "  inflating: tea sickness dataset/white spot/UNADJUSTEDNONRAW_thumb_92.jpg  \n",
            "  inflating: tea sickness dataset/white spot/UNADJUSTEDNONRAW_thumb_93.jpg  \n",
            "  inflating: tea sickness dataset/white spot/UNADJUSTEDNONRAW_thumb_94.jpg  \n",
            "  inflating: tea sickness dataset/white spot/UNADJUSTEDNONRAW_thumb_95.jpg  \n",
            "  inflating: tea sickness dataset/white spot/UNADJUSTEDNONRAW_thumb_96.jpg  \n",
            "  inflating: tea sickness dataset/white spot/UNADJUSTEDNONRAW_thumb_97.jpg  \n",
            "  inflating: tea sickness dataset/white spot/UNADJUSTEDNONRAW_thumb_98.jpg  \n",
            "  inflating: tea sickness dataset/white spot/UNADJUSTEDNONRAW_thumb_99.jpg  \n",
            "  inflating: tea sickness dataset/white spot/UNADJUSTEDNONRAW_thumb_9a.jpg  \n",
            "  inflating: tea sickness dataset/white spot/UNADJUSTEDNONRAW_thumb_9b.jpg  \n",
            "  inflating: tea sickness dataset/white spot/UNADJUSTEDNONRAW_thumb_9c.jpg  \n",
            "  inflating: tea sickness dataset/white spot/UNADJUSTEDNONRAW_thumb_9d.jpg  \n",
            "  inflating: tea sickness dataset/white spot/UNADJUSTEDNONRAW_thumb_9e.jpg  \n",
            "  inflating: tea sickness dataset/white spot/UNADJUSTEDNONRAW_thumb_9f.jpg  \n",
            "  inflating: tea sickness dataset/white spot/UNADJUSTEDNONRAW_thumb_a0.jpg  \n",
            "  inflating: tea sickness dataset/white spot/UNADJUSTEDNONRAW_thumb_a1.jpg  \n",
            "  inflating: tea sickness dataset/white spot/UNADJUSTEDNONRAW_thumb_a2.jpg  \n",
            "  inflating: tea sickness dataset/white spot/UNADJUSTEDNONRAW_thumb_a3.jpg  \n",
            "  inflating: tea sickness dataset/white spot/UNADJUSTEDNONRAW_thumb_a4.jpg  \n",
            "  inflating: tea sickness dataset/white spot/UNADJUSTEDNONRAW_thumb_a5.jpg  \n",
            "  inflating: tea sickness dataset/white spot/UNADJUSTEDNONRAW_thumb_a6.jpg  \n",
            "  inflating: tea sickness dataset/white spot/UNADJUSTEDNONRAW_thumb_a7.jpg  \n",
            "  inflating: tea sickness dataset/white spot/UNADJUSTEDNONRAW_thumb_a8.jpg  \n",
            "  inflating: tea sickness dataset/white spot/UNADJUSTEDNONRAW_thumb_a9.jpg  \n",
            "  inflating: tea sickness dataset/white spot/UNADJUSTEDNONRAW_thumb_aa.jpg  \n",
            "  inflating: tea sickness dataset/white spot/UNADJUSTEDNONRAW_thumb_ab.jpg  \n",
            "  inflating: tea sickness dataset/white spot/UNADJUSTEDNONRAW_thumb_ac.jpg  \n",
            "  inflating: tea sickness dataset/white spot/UNADJUSTEDNONRAW_thumb_ad.jpg  \n",
            "  inflating: tea sickness dataset/white spot/UNADJUSTEDNONRAW_thumb_ae.jpg  \n",
            "  inflating: tea sickness dataset/white spot/UNADJUSTEDNONRAW_thumb_af.jpg  \n",
            "  inflating: tea sickness dataset/white spot/UNADJUSTEDNONRAW_thumb_b0.jpg  \n",
            "  inflating: tea sickness dataset/white spot/UNADJUSTEDNONRAW_thumb_b1.jpg  \n",
            "  inflating: tea sickness dataset/white spot/UNADJUSTEDNONRAW_thumb_b2.jpg  \n",
            "  inflating: tea sickness dataset/white spot/UNADJUSTEDNONRAW_thumb_b3.jpg  \n",
            "  inflating: tea sickness dataset/white spot/UNADJUSTEDNONRAW_thumb_b4.jpg  \n",
            "  inflating: tea sickness dataset/white spot/UNADJUSTEDNONRAW_thumb_b5.jpg  \n",
            "  inflating: tea sickness dataset/white spot/UNADJUSTEDNONRAW_thumb_b6.jpg  \n",
            "  inflating: tea sickness dataset/white spot/UNADJUSTEDNONRAW_thumb_b7.jpg  \n",
            "  inflating: tea sickness dataset/white spot/UNADJUSTEDNONRAW_thumb_b8.jpg  \n",
            "  inflating: tea sickness dataset/white spot/UNADJUSTEDNONRAW_thumb_b9.jpg  \n",
            "  inflating: tea sickness dataset/white spot/UNADJUSTEDNONRAW_thumb_ba.jpg  \n",
            "  inflating: tea sickness dataset/white spot/UNADJUSTEDNONRAW_thumb_bb.jpg  \n",
            "  inflating: tea sickness dataset/white spot/UNADJUSTEDNONRAW_thumb_bc.jpg  \n",
            "  inflating: tea sickness dataset/white spot/UNADJUSTEDNONRAW_thumb_bd.jpg  \n",
            "  inflating: tea sickness dataset/white spot/UNADJUSTEDNONRAW_thumb_be.jpg  \n",
            "  inflating: tea sickness dataset/white spot/UNADJUSTEDNONRAW_thumb_bf.jpg  \n",
            "  inflating: tea sickness dataset/white spot/UNADJUSTEDNONRAW_thumb_c0.jpg  \n",
            "  inflating: tea sickness dataset/white spot/UNADJUSTEDNONRAW_thumb_c1.jpg  \n",
            "  inflating: tea sickness dataset/white spot/UNADJUSTEDNONRAW_thumb_c2.jpg  \n",
            "  inflating: tea sickness dataset/white spot/UNADJUSTEDNONRAW_thumb_c3.jpg  \n",
            "  inflating: tea sickness dataset/white spot/UNADJUSTEDNONRAW_thumb_c4.jpg  \n",
            "  inflating: tea sickness dataset/white spot/UNADJUSTEDNONRAW_thumb_c5.jpg  \n",
            "  inflating: tea sickness dataset/white spot/UNADJUSTEDNONRAW_thumb_c6.jpg  \n",
            "  inflating: tea sickness dataset/white spot/UNADJUSTEDNONRAW_thumb_c7.jpg  \n",
            "  inflating: tea sickness dataset/white spot/UNADJUSTEDNONRAW_thumb_c8.jpg  \n",
            "  inflating: tea sickness dataset/white spot/UNADJUSTEDNONRAW_thumb_c9.jpg  \n",
            "  inflating: tea sickness dataset/white spot/UNADJUSTEDNONRAW_thumb_ca.jpg  \n",
            "  inflating: tea sickness dataset/white spot/UNADJUSTEDNONRAW_thumb_cb.jpg  \n",
            "  inflating: tea sickness dataset/white spot/UNADJUSTEDNONRAW_thumb_cc.jpg  \n",
            "  inflating: tea sickness dataset/white spot/UNADJUSTEDNONRAW_thumb_cd.jpg  \n",
            "  inflating: tea sickness dataset/white spot/UNADJUSTEDNONRAW_thumb_ce.jpg  \n",
            "  inflating: tea sickness dataset/white spot/UNADJUSTEDNONRAW_thumb_cf.jpg  \n",
            "  inflating: tea sickness dataset/white spot/UNADJUSTEDNONRAW_thumb_d0.jpg  \n",
            "  inflating: tea sickness dataset/white spot/UNADJUSTEDNONRAW_thumb_d1.jpg  \n",
            "  inflating: tea sickness dataset/white spot/UNADJUSTEDNONRAW_thumb_d2.jpg  \n",
            "  inflating: tea sickness dataset/white spot/UNADJUSTEDNONRAW_thumb_d3.jpg  \n",
            "  inflating: tea sickness dataset/white spot/UNADJUSTEDNONRAW_thumb_d4.jpg  \n",
            "  inflating: tea sickness dataset/white spot/UNADJUSTEDNONRAW_thumb_d5.jpg  \n",
            "  inflating: tea sickness dataset/white spot/UNADJUSTEDNONRAW_thumb_d6.jpg  \n",
            "  inflating: tea sickness dataset/white spot/UNADJUSTEDNONRAW_thumb_d7.jpg  \n",
            "  inflating: tea sickness dataset/white spot/UNADJUSTEDNONRAW_thumb_d8.jpg  \n",
            "  inflating: tea sickness dataset/white spot/UNADJUSTEDNONRAW_thumb_d9.jpg  \n",
            "  inflating: tea sickness dataset/white spot/UNADJUSTEDNONRAW_thumb_da.jpg  \n",
            "  inflating: tea sickness dataset/white spot/UNADJUSTEDNONRAW_thumb_db.jpg  \n",
            "  inflating: tea sickness dataset/white spot/UNADJUSTEDNONRAW_thumb_dc.jpg  \n",
            "  inflating: tea sickness dataset/white spot/UNADJUSTEDNONRAW_thumb_dd.jpg  \n",
            "  inflating: tea sickness dataset/white spot/UNADJUSTEDNONRAW_thumb_de.jpg  \n",
            "  inflating: tea sickness dataset/white spot/UNADJUSTEDNONRAW_thumb_df.jpg  \n",
            "  inflating: tea sickness dataset/white spot/UNADJUSTEDNONRAW_thumb_e0.jpg  \n",
            "  inflating: tea sickness dataset/white spot/UNADJUSTEDNONRAW_thumb_e1.jpg  \n",
            "  inflating: tea sickness dataset/white spot/UNADJUSTEDNONRAW_thumb_e2.jpg  \n",
            "  inflating: tea sickness dataset/white spot/UNADJUSTEDNONRAW_thumb_e3.jpg  \n",
            "  inflating: tea sickness dataset/white spot/UNADJUSTEDNONRAW_thumb_e4.jpg  \n",
            "  inflating: tea sickness dataset/white spot/UNADJUSTEDNONRAW_thumb_e5.jpg  \n",
            "  inflating: tea sickness dataset/white spot/UNADJUSTEDNONRAW_thumb_e6.jpg  \n",
            "  inflating: tea sickness dataset/white spot/UNADJUSTEDNONRAW_thumb_e7.jpg  \n",
            "  inflating: tea sickness dataset/white spot/UNADJUSTEDNONRAW_thumb_e8.jpg  \n",
            "  inflating: tea sickness dataset/white spot/UNADJUSTEDNONRAW_thumb_e9.jpg  \n",
            "  inflating: tea sickness dataset/white spot/UNADJUSTEDNONRAW_thumb_ea.jpg  \n",
            "  inflating: tea sickness dataset/white spot/UNADJUSTEDNONRAW_thumb_eb.jpg  \n",
            "  inflating: tea sickness dataset/white spot/UNADJUSTEDNONRAW_thumb_ec.jpg  \n",
            "  inflating: tea sickness dataset/white spot/UNADJUSTEDNONRAW_thumb_ed.jpg  \n",
            "  inflating: tea sickness dataset/white spot/UNADJUSTEDNONRAW_thumb_ee.jpg  \n",
            "  inflating: tea sickness dataset/white spot/UNADJUSTEDNONRAW_thumb_ef.jpg  \n",
            "  inflating: tea sickness dataset/white spot/UNADJUSTEDNONRAW_thumb_f0.jpg  \n",
            "  inflating: tea sickness dataset/white spot/UNADJUSTEDNONRAW_thumb_f1.jpg  \n",
            "  inflating: tea sickness dataset/white spot/UNADJUSTEDNONRAW_thumb_f2.jpg  \n",
            "  inflating: tea sickness dataset/white spot/UNADJUSTEDNONRAW_thumb_f3.jpg  \n",
            "  inflating: tea sickness dataset/white spot/UNADJUSTEDNONRAW_thumb_f4.jpg  \n",
            "  inflating: tea sickness dataset/white spot/UNADJUSTEDNONRAW_thumb_f5.jpg  \n",
            "  inflating: tea sickness dataset/white spot/UNADJUSTEDNONRAW_thumb_f6.jpg  \n",
            "  inflating: tea sickness dataset/white spot/UNADJUSTEDNONRAW_thumb_f7.jpg  \n",
            "  inflating: tea sickness dataset/white spot/UNADJUSTEDNONRAW_thumb_f8.jpg  \n",
            "  inflating: tea sickness dataset/white spot/UNADJUSTEDNONRAW_thumb_f9.jpg  \n",
            "  inflating: tea sickness dataset/white spot/UNADJUSTEDNONRAW_thumb_fa.jpg  \n",
            "  inflating: tea sickness dataset/white spot/UNADJUSTEDNONRAW_thumb_fb.jpg  \n",
            "  inflating: tea sickness dataset/white spot/UNADJUSTEDNONRAW_thumb_fc.jpg  \n",
            "  inflating: tea sickness dataset/white spot/UNADJUSTEDNONRAW_thumb_fd.jpg  \n",
            "  inflating: tea sickness dataset/white spot/UNADJUSTEDNONRAW_thumb_fe.jpg  \n",
            "  inflating: tea sickness dataset/white spot/UNADJUSTEDNONRAW_thumb_ff.jpg  \n"
          ]
        }
      ],
      "source": [
        "!unzip \\*.zip && rm *.zip"
      ]
    },
    {
      "cell_type": "markdown",
      "metadata": {
        "id": "6GFj3jEo0qDC"
      },
      "source": [
        "# Splitting the Dataset"
      ]
    },
    {
      "cell_type": "code",
      "execution_count": 11,
      "metadata": {
        "colab": {
          "base_uri": "https://localhost:8080/"
        },
        "id": "xuxQNW6DxZKb",
        "outputId": "d49599a1-38b3-465c-bf14-086562835694"
      },
      "outputs": [
        {
          "name": "stdout",
          "output_type": "stream",
          "text": [
            "Looking in indexes: https://pypi.org/simple, https://us-python.pkg.dev/colab-wheels/public/simple/\n",
            "Collecting split-folders[full]\n",
            "  Downloading split_folders-0.5.1-py3-none-any.whl (8.4 kB)\n",
            "Requirement already satisfied: tqdm in /usr/local/lib/python3.7/dist-packages (from split-folders[full]) (4.64.1)\n",
            "Installing collected packages: split-folders\n",
            "Successfully installed split-folders-0.5.1\n"
          ]
        }
      ],
      "source": [
        "pip install split-folders[full]"
      ]
    },
    {
      "cell_type": "code",
      "execution_count": 12,
      "metadata": {
        "id": "7Mq9ZpmGxdxp"
      },
      "outputs": [],
      "source": [
        "import splitfolders"
      ]
    },
    {
      "cell_type": "code",
      "execution_count": 13,
      "metadata": {
        "colab": {
          "base_uri": "https://localhost:8080/"
        },
        "id": "Hb2CSipnxlCn",
        "outputId": "cb14626a-0f4b-4206-a3fc-f7d91465a35c"
      },
      "outputs": [
        {
          "name": "stderr",
          "output_type": "stream",
          "text": [
            "Copying files: 885 files [00:02, 336.95 files/s]\n"
          ]
        }
      ],
      "source": [
        "input_folder = '/content/tea sickness dataset'\n",
        "splitfolders.ratio(input_folder, output=\"Dataset\", \n",
        "                   seed=42, ratio=(.8, 0,.2), \n",
        "                   group_prefix=None)"
      ]
    },
    {
      "cell_type": "code",
      "execution_count": null,
      "metadata": {
        "colab": {
          "base_uri": "https://localhost:8080/"
        },
        "id": "h1lUpWjuzwSq",
        "outputId": "22ac9f07-e605-45cb-a68d-0bbdbe426128"
      },
      "outputs": [
        {
          "name": "stdout",
          "output_type": "stream",
          "text": [
            "0\n"
          ]
        }
      ],
      "source": [
        "import os\n",
        "FOLDER_PATH = 'Anthracnose'\n",
        "ROOT_PATH = '/content/Dataset/val/'\n",
        "print(len(os.listdir(os.path.join(ROOT_PATH, FOLDER_PATH))))"
      ]
    },
    {
      "cell_type": "markdown",
      "metadata": {
        "id": "M1jQUukg5P4C"
      },
      "source": [
        "# Model Building"
      ]
    },
    {
      "cell_type": "markdown",
      "metadata": {
        "id": "Cxv0L0fxzQ6c"
      },
      "source": [
        "**Importing Libraries**"
      ]
    },
    {
      "cell_type": "code",
      "execution_count": null,
      "metadata": {
        "id": "pklBhmpUzgp7"
      },
      "outputs": [],
      "source": [
        "from tensorflow.keras.layers import Dense, Flatten, Input\n",
        "from tensorflow.keras.models import Model\n",
        "from tensorflow.keras.preprocessing import image\n",
        "from tensorflow.keras.preprocessing.image import ImageDataGenerator, load_img\n",
        "from tensorflow.keras.applications.xception import Xception, preprocess_input\n",
        "import numpy as np\n",
        "import matplotlib.pyplot as plt"
      ]
    },
    {
      "cell_type": "markdown",
      "metadata": {
        "id": "Ft6VNkYkzoJj"
      },
      "source": [
        "**Defining Train & Test Set**"
      ]
    },
    {
      "cell_type": "code",
      "execution_count": null,
      "metadata": {
        "id": "wgWKrSOx5Wwp"
      },
      "outputs": [],
      "source": [
        "imageSize = [224, 224]\n",
        "\n",
        "trainPath = r\"/content/Dataset/train\"\n",
        "\n",
        "testPath = r\"/content/Dataset/test\""
      ]
    },
    {
      "cell_type": "markdown",
      "metadata": {
        "id": "bwq1H6HozuPy"
      },
      "source": [
        "**Defining VGG **"
      ]
    },
    {
      "cell_type": "code",
      "execution_count": null,
      "metadata": {
        "colab": {
          "base_uri": "https://localhost:8080/"
        },
        "id": "jD5Rs93v5kUC",
        "outputId": "d4cdb820-8762-4514-cb04-5109f4a805e9"
      },
      "outputs": [
        {
          "name": "stdout",
          "output_type": "stream",
          "text": [
            "Downloading data from https://storage.googleapis.com/tensorflow/keras-applications/vgg16/vgg16_weights_tf_dim_ordering_tf_kernels_notop.h5\n",
            "58889256/58889256 [==============================] - 1s 0us/step\n"
          ]
        }
      ],
      "source": [
        "# adding preprocessing layers to the front of vgg\n",
        "\n",
        "vgg = VGG16(input_shape=imageSize + [3], weights='imagenet',include_top=False)"
      ]
    },
    {
      "cell_type": "code",
      "execution_count": null,
      "metadata": {
        "id": "ZcLsgan35meq"
      },
      "outputs": [],
      "source": [
        "# don't train existing weights\n",
        "for layer in vgg.layers:\n",
        "  layer.trainable = False"
      ]
    },
    {
      "cell_type": "markdown",
      "metadata": {
        "id": "j2145Xqm0ets"
      },
      "source": [
        "**Adding Layers**"
      ]
    },
    {
      "cell_type": "code",
      "execution_count": null,
      "metadata": {
        "id": "9RMV7jm45qGM"
      },
      "outputs": [],
      "source": [
        "# our layers - you can add more if you want\n",
        "#Adding Flatten Layers\n",
        "x = Flatten()(vgg.output)"
      ]
    },
    {
      "cell_type": "code",
      "execution_count": null,
      "metadata": {
        "id": "mj2n3QLd5sKr"
      },
      "outputs": [],
      "source": [
        "#Adding Output Layer\n",
        "prediction = Dense(8, activation='softmax')(x)"
      ]
    },
    {
      "cell_type": "markdown",
      "metadata": {
        "id": "TdP-rrUr0y5N"
      },
      "source": [
        "**Defining the Model**"
      ]
    },
    {
      "cell_type": "code",
      "execution_count": null,
      "metadata": {
        "id": "kTPYQaAT5ukT"
      },
      "outputs": [],
      "source": [
        "# create a model object\n",
        "model = Model(inputs=vgg.input, outputs=prediction)"
      ]
    },
    {
      "cell_type": "code",
      "execution_count": null,
      "metadata": {
        "id": "RDZSRi6M50Wg"
      },
      "outputs": [],
      "source": [
        "# tell the model what cost and optimization method to use\n",
        "model.compile(\n",
        "  loss='categorical_crossentropy',\n",
        "  optimizer='adam',\n",
        "  metrics=['accuracy'], run_eagerly=True\n",
        ")\n"
      ]
    },
    {
      "cell_type": "markdown",
      "metadata": {
        "id": "Uf73sEd-0qz8"
      },
      "source": [
        "**Image Augmentation**"
      ]
    },
    {
      "cell_type": "code",
      "execution_count": null,
      "metadata": {
        "id": "SJGcZE3751fg"
      },
      "outputs": [],
      "source": [
        "from tensorflow.keras.preprocessing.image import ImageDataGenerator"
      ]
    },
    {
      "cell_type": "code",
      "execution_count": null,
      "metadata": {
        "id": "h5lJ7gHN54kS"
      },
      "outputs": [],
      "source": [
        "train_datagen = ImageDataGenerator(rescale = 1./255,\n",
        "                                   shear_range = 0.2,\n",
        "                                   zoom_range = 0.2,\n",
        "                                   horizontal_flip = True)\n",
        "\n",
        "test_datagen = ImageDataGenerator(rescale = 1./255)"
      ]
    },
    {
      "cell_type": "code",
      "execution_count": null,
      "metadata": {
        "colab": {
          "base_uri": "https://localhost:8080/"
        },
        "id": "TkjPmc9v59d5",
        "outputId": "90f8b712-0453-40b5-d898-a225a4a1ec59"
      },
      "outputs": [
        {
          "name": "stdout",
          "output_type": "stream",
          "text": [
            "Found 706 images belonging to 8 classes.\n",
            "Found 179 images belonging to 8 classes.\n"
          ]
        }
      ],
      "source": [
        "training_set = train_datagen.flow_from_directory(trainPath,\n",
        "                                                 target_size = (224, 224),\n",
        "                                                 batch_size = 32,\n",
        "                                                 class_mode = 'categorical')\n",
        "\n",
        "test_set = test_datagen.flow_from_directory(testPath,\n",
        "                                            target_size = (224, 224),\n",
        "                                            batch_size = 32,\n",
        "                                            class_mode = 'categorical')"
      ]
    },
    {
      "cell_type": "code",
      "execution_count": null,
      "metadata": {
        "colab": {
          "base_uri": "https://localhost:8080/"
        },
        "id": "uqHnJpvXRKTa",
        "outputId": "93832d25-f8fc-4b81-ee56-3a097c1de4eb"
      },
      "outputs": [
        {
          "data": {
            "text/plain": [
              "{'Anthracnose': 0,\n",
              " 'algal leaf': 1,\n",
              " 'bird eye spot': 2,\n",
              " 'brown blight': 3,\n",
              " 'gray light': 4,\n",
              " 'healthy': 5,\n",
              " 'red leaf spot': 6,\n",
              " 'white spot': 7}"
            ]
          },
          "execution_count": 57,
          "metadata": {},
          "output_type": "execute_result"
        }
      ],
      "source": [
        "training_set.class_indices"
      ]
    },
    {
      "cell_type": "markdown",
      "metadata": {
        "id": "6Ge55ecc1Ioj"
      },
      "source": [
        "**Model Training**"
      ]
    },
    {
      "cell_type": "code",
      "execution_count": null,
      "metadata": {
        "colab": {
          "base_uri": "https://localhost:8080/"
        },
        "id": "CVFXXDOT6B3z",
        "outputId": "ee1e9057-7f39-4962-b744-768587daf9c1"
      },
      "outputs": [
        {
          "name": "stderr",
          "output_type": "stream",
          "text": [
            "/usr/local/lib/python3.7/dist-packages/ipykernel_launcher.py:8: UserWarning: `Model.fit_generator` is deprecated and will be removed in a future version. Please use `Model.fit`, which supports generators.\n",
            "  \n"
          ]
        },
        {
          "name": "stdout",
          "output_type": "stream",
          "text": [
            "Epoch 1/150\n",
            "7/7 [==============================] - 31s 4s/step - loss: 2.9193 - accuracy: 0.1786 - val_loss: 2.4473 - val_accuracy: 0.1719\n",
            "Epoch 2/150\n",
            "7/7 [==============================] - 28s 4s/step - loss: 1.8477 - accuracy: 0.3661 - val_loss: 1.4763 - val_accuracy: 0.4219\n",
            "Epoch 3/150\n",
            "7/7 [==============================] - 28s 4s/step - loss: 1.1795 - accuracy: 0.5536 - val_loss: 1.6247 - val_accuracy: 0.3750\n",
            "Epoch 4/150\n",
            "7/7 [==============================] - 29s 4s/step - loss: 1.0125 - accuracy: 0.6384 - val_loss: 1.1357 - val_accuracy: 0.5469\n",
            "Epoch 5/150\n",
            "7/7 [==============================] - 29s 4s/step - loss: 0.9598 - accuracy: 0.6652 - val_loss: 0.9185 - val_accuracy: 0.6719\n",
            "Epoch 6/150\n",
            "7/7 [==============================] - 28s 4s/step - loss: 0.8386 - accuracy: 0.6920 - val_loss: 0.8879 - val_accuracy: 0.6875\n",
            "Epoch 7/150\n",
            "7/7 [==============================] - 28s 4s/step - loss: 0.7176 - accuracy: 0.7589 - val_loss: 1.1682 - val_accuracy: 0.5938\n",
            "Epoch 8/150\n",
            "7/7 [==============================] - 27s 4s/step - loss: 0.7813 - accuracy: 0.7526 - val_loss: 0.7675 - val_accuracy: 0.7344\n",
            "Epoch 9/150\n",
            "7/7 [==============================] - 28s 4s/step - loss: 0.6156 - accuracy: 0.7723 - val_loss: 0.6925 - val_accuracy: 0.7344\n",
            "Epoch 10/150\n",
            "7/7 [==============================] - 25s 4s/step - loss: 0.6812 - accuracy: 0.7526 - val_loss: 0.9084 - val_accuracy: 0.6875\n",
            "Epoch 11/150\n",
            "7/7 [==============================] - 25s 4s/step - loss: 0.6042 - accuracy: 0.8214 - val_loss: 0.9323 - val_accuracy: 0.5469\n",
            "Epoch 12/150\n",
            "7/7 [==============================] - 28s 4s/step - loss: 0.5655 - accuracy: 0.8036 - val_loss: 0.9913 - val_accuracy: 0.6719\n",
            "Epoch 13/150\n",
            "7/7 [==============================] - 27s 4s/step - loss: 0.5096 - accuracy: 0.8348 - val_loss: 0.7021 - val_accuracy: 0.6719\n",
            "Epoch 14/150\n",
            "7/7 [==============================] - 26s 4s/step - loss: 0.5488 - accuracy: 0.8196 - val_loss: 0.9603 - val_accuracy: 0.6250\n",
            "Epoch 15/150\n",
            "7/7 [==============================] - 29s 4s/step - loss: 0.4791 - accuracy: 0.8393 - val_loss: 0.7750 - val_accuracy: 0.7500\n",
            "Epoch 16/150\n",
            "7/7 [==============================] - 29s 4s/step - loss: 0.5077 - accuracy: 0.7991 - val_loss: 0.9561 - val_accuracy: 0.6562\n",
            "Epoch 17/150\n",
            "7/7 [==============================] - 26s 4s/step - loss: 0.4275 - accuracy: 0.8660 - val_loss: 0.9402 - val_accuracy: 0.6875\n",
            "Epoch 18/150\n",
            "7/7 [==============================] - 28s 4s/step - loss: 0.3689 - accuracy: 0.8705 - val_loss: 0.6868 - val_accuracy: 0.7812\n",
            "Epoch 19/150\n",
            "7/7 [==============================] - 29s 4s/step - loss: 0.3736 - accuracy: 0.8527 - val_loss: 0.7427 - val_accuracy: 0.7656\n",
            "Epoch 20/150\n",
            "7/7 [==============================] - 25s 4s/step - loss: 0.3983 - accuracy: 0.8616 - val_loss: 0.6578 - val_accuracy: 0.7500\n",
            "Epoch 21/150\n",
            "7/7 [==============================] - 29s 4s/step - loss: 0.3836 - accuracy: 0.8795 - val_loss: 0.6253 - val_accuracy: 0.7656\n",
            "Epoch 22/150\n",
            "7/7 [==============================] - 23s 3s/step - loss: 0.3979 - accuracy: 0.8814 - val_loss: 0.7655 - val_accuracy: 0.6719\n",
            "Epoch 23/150\n",
            "7/7 [==============================] - 22s 4s/step - loss: 0.3730 - accuracy: 0.8660 - val_loss: 0.7581 - val_accuracy: 0.7500\n",
            "Epoch 24/150\n",
            "7/7 [==============================] - 29s 4s/step - loss: 0.4200 - accuracy: 0.8527 - val_loss: 0.8375 - val_accuracy: 0.6875\n",
            "Epoch 25/150\n",
            "7/7 [==============================] - 27s 4s/step - loss: 0.5004 - accuracy: 0.8299 - val_loss: 0.9989 - val_accuracy: 0.6719\n",
            "Epoch 26/150\n",
            "7/7 [==============================] - 22s 3s/step - loss: 0.3543 - accuracy: 0.8660 - val_loss: 0.9889 - val_accuracy: 0.6562\n",
            "Epoch 27/150\n",
            "7/7 [==============================] - 30s 5s/step - loss: 0.5214 - accuracy: 0.8125 - val_loss: 0.8770 - val_accuracy: 0.6562\n",
            "Epoch 28/150\n",
            "7/7 [==============================] - 22s 4s/step - loss: 0.5795 - accuracy: 0.7732 - val_loss: 0.8505 - val_accuracy: 0.6875\n",
            "Epoch 29/150\n",
            "7/7 [==============================] - 25s 4s/step - loss: 0.4529 - accuracy: 0.8351 - val_loss: 0.7155 - val_accuracy: 0.7031\n",
            "Epoch 30/150\n",
            "7/7 [==============================] - 29s 4s/step - loss: 0.3230 - accuracy: 0.8929 - val_loss: 0.6028 - val_accuracy: 0.7969\n",
            "Epoch 31/150\n",
            "7/7 [==============================] - 29s 4s/step - loss: 0.3378 - accuracy: 0.8929 - val_loss: 0.6233 - val_accuracy: 0.7969\n",
            "Epoch 32/150\n",
            "7/7 [==============================] - 28s 4s/step - loss: 0.2544 - accuracy: 0.9330 - val_loss: 0.6922 - val_accuracy: 0.7344\n",
            "Epoch 33/150\n",
            "7/7 [==============================] - 26s 4s/step - loss: 0.2637 - accuracy: 0.9072 - val_loss: 0.6506 - val_accuracy: 0.7500\n",
            "Epoch 34/150\n",
            "7/7 [==============================] - 29s 4s/step - loss: 0.3097 - accuracy: 0.8973 - val_loss: 0.5746 - val_accuracy: 0.7656\n",
            "Epoch 35/150\n",
            "7/7 [==============================] - 28s 4s/step - loss: 0.1990 - accuracy: 0.9330 - val_loss: 0.7983 - val_accuracy: 0.6719\n",
            "Epoch 36/150\n",
            "7/7 [==============================] - 26s 4s/step - loss: 0.1808 - accuracy: 0.9643 - val_loss: 0.8210 - val_accuracy: 0.7500\n",
            "Epoch 37/150\n",
            "7/7 [==============================] - 29s 4s/step - loss: 0.2447 - accuracy: 0.9196 - val_loss: 0.6189 - val_accuracy: 0.7344\n",
            "Epoch 38/150\n",
            "7/7 [==============================] - 25s 4s/step - loss: 0.1543 - accuracy: 0.9732 - val_loss: 0.9545 - val_accuracy: 0.6562\n",
            "Epoch 39/150\n",
            "7/7 [==============================] - 27s 4s/step - loss: 0.1488 - accuracy: 0.9691 - val_loss: 0.7454 - val_accuracy: 0.6719\n",
            "Epoch 40/150\n",
            "7/7 [==============================] - 27s 4s/step - loss: 0.1357 - accuracy: 0.9821 - val_loss: 0.6888 - val_accuracy: 0.7969\n",
            "Epoch 41/150\n",
            "7/7 [==============================] - 29s 4s/step - loss: 0.1767 - accuracy: 0.9509 - val_loss: 0.5346 - val_accuracy: 0.8438\n",
            "Epoch 42/150\n",
            "7/7 [==============================] - 30s 5s/step - loss: 0.1976 - accuracy: 0.9286 - val_loss: 0.7454 - val_accuracy: 0.7656\n",
            "Epoch 43/150\n",
            "7/7 [==============================] - 28s 4s/step - loss: 0.1419 - accuracy: 0.9688 - val_loss: 0.6575 - val_accuracy: 0.7500\n",
            "Epoch 44/150\n",
            "7/7 [==============================] - 28s 4s/step - loss: 0.1562 - accuracy: 0.9509 - val_loss: 0.6768 - val_accuracy: 0.7031\n",
            "Epoch 45/150\n",
            "7/7 [==============================] - 27s 4s/step - loss: 0.2033 - accuracy: 0.9464 - val_loss: 0.8097 - val_accuracy: 0.7188\n",
            "Epoch 46/150\n",
            "7/7 [==============================] - 28s 4s/step - loss: 0.2453 - accuracy: 0.9107 - val_loss: 0.6588 - val_accuracy: 0.7656\n",
            "Epoch 47/150\n",
            "7/7 [==============================] - 25s 4s/step - loss: 0.3729 - accuracy: 0.9021 - val_loss: 0.8253 - val_accuracy: 0.7188\n",
            "Epoch 48/150\n",
            "7/7 [==============================] - 27s 4s/step - loss: 0.2841 - accuracy: 0.9175 - val_loss: 0.9013 - val_accuracy: 0.7031\n",
            "Epoch 49/150\n",
            "7/7 [==============================] - 28s 4s/step - loss: 0.6738 - accuracy: 0.8393 - val_loss: 1.0682 - val_accuracy: 0.7188\n",
            "Epoch 50/150\n",
            "7/7 [==============================] - 31s 5s/step - loss: 0.4519 - accuracy: 0.8839 - val_loss: 1.3316 - val_accuracy: 0.6250\n",
            "Epoch 51/150\n",
            "7/7 [==============================] - 29s 4s/step - loss: 0.2848 - accuracy: 0.9241 - val_loss: 0.7993 - val_accuracy: 0.7656\n",
            "Epoch 52/150\n",
            "7/7 [==============================] - 24s 4s/step - loss: 0.2459 - accuracy: 0.9152 - val_loss: 0.7070 - val_accuracy: 0.8125\n",
            "Epoch 53/150\n",
            "7/7 [==============================] - 26s 4s/step - loss: 0.2495 - accuracy: 0.9072 - val_loss: 0.9366 - val_accuracy: 0.7031\n",
            "Epoch 54/150\n",
            "7/7 [==============================] - 29s 4s/step - loss: 0.1858 - accuracy: 0.9598 - val_loss: 0.6367 - val_accuracy: 0.7500\n",
            "Epoch 55/150\n",
            "7/7 [==============================] - 24s 3s/step - loss: 0.1267 - accuracy: 0.9742 - val_loss: 0.8186 - val_accuracy: 0.7500\n",
            "Epoch 56/150\n",
            "7/7 [==============================] - 28s 4s/step - loss: 0.1290 - accuracy: 0.9598 - val_loss: 0.7602 - val_accuracy: 0.7500\n",
            "Epoch 57/150\n",
            "7/7 [==============================] - 28s 4s/step - loss: 0.1047 - accuracy: 0.9732 - val_loss: 0.5457 - val_accuracy: 0.7812\n",
            "Epoch 58/150\n",
            "7/7 [==============================] - 25s 4s/step - loss: 0.1588 - accuracy: 0.9643 - val_loss: 0.5940 - val_accuracy: 0.7812\n",
            "Epoch 59/150\n",
            "7/7 [==============================] - 27s 4s/step - loss: 0.1007 - accuracy: 0.9794 - val_loss: 0.6827 - val_accuracy: 0.7500\n",
            "Epoch 60/150\n",
            "7/7 [==============================] - 28s 4s/step - loss: 0.0727 - accuracy: 0.9911 - val_loss: 0.5469 - val_accuracy: 0.8125\n",
            "Epoch 61/150\n",
            "7/7 [==============================] - 27s 4s/step - loss: 0.1441 - accuracy: 0.9554 - val_loss: 0.6331 - val_accuracy: 0.7500\n",
            "Epoch 62/150\n",
            "7/7 [==============================] - 26s 4s/step - loss: 0.0881 - accuracy: 0.9821 - val_loss: 0.5639 - val_accuracy: 0.8125\n",
            "Epoch 63/150\n",
            "7/7 [==============================] - 26s 4s/step - loss: 0.2156 - accuracy: 0.9330 - val_loss: 0.6348 - val_accuracy: 0.7656\n",
            "Epoch 64/150\n",
            "7/7 [==============================] - 29s 4s/step - loss: 0.1762 - accuracy: 0.9375 - val_loss: 0.6936 - val_accuracy: 0.7031\n",
            "Epoch 65/150\n",
            "7/7 [==============================] - 26s 4s/step - loss: 0.1298 - accuracy: 0.9732 - val_loss: 0.8062 - val_accuracy: 0.7031\n",
            "Epoch 66/150\n",
            "7/7 [==============================] - 25s 4s/step - loss: 0.1258 - accuracy: 0.9643 - val_loss: 0.8436 - val_accuracy: 0.7031\n",
            "Epoch 67/150\n",
            "7/7 [==============================] - 27s 4s/step - loss: 0.1666 - accuracy: 0.9330 - val_loss: 0.6442 - val_accuracy: 0.8125\n",
            "Epoch 68/150\n",
            "7/7 [==============================] - 27s 4s/step - loss: 0.1489 - accuracy: 0.9536 - val_loss: 0.5273 - val_accuracy: 0.8125\n",
            "Epoch 69/150\n",
            "7/7 [==============================] - 25s 4s/step - loss: 0.1695 - accuracy: 0.9509 - val_loss: 0.9254 - val_accuracy: 0.7344\n",
            "Epoch 70/150\n",
            "7/7 [==============================] - 26s 4s/step - loss: 0.1602 - accuracy: 0.9639 - val_loss: 0.9314 - val_accuracy: 0.7344\n",
            "Epoch 71/150\n",
            "7/7 [==============================] - 26s 4s/step - loss: 0.1500 - accuracy: 0.9509 - val_loss: 0.5911 - val_accuracy: 0.7812\n",
            "Epoch 72/150\n",
            "7/7 [==============================] - 29s 4s/step - loss: 0.1203 - accuracy: 0.9598 - val_loss: 0.7004 - val_accuracy: 0.7500\n",
            "Epoch 73/150\n",
            "7/7 [==============================] - 28s 4s/step - loss: 0.1538 - accuracy: 0.9691 - val_loss: 0.7083 - val_accuracy: 0.7344\n",
            "Epoch 74/150\n",
            "7/7 [==============================] - 25s 4s/step - loss: 0.0714 - accuracy: 0.9911 - val_loss: 0.5526 - val_accuracy: 0.7656\n",
            "Epoch 75/150\n",
            "7/7 [==============================] - 27s 4s/step - loss: 0.0825 - accuracy: 0.9821 - val_loss: 0.6005 - val_accuracy: 0.7812\n",
            "Epoch 76/150\n",
            "7/7 [==============================] - 28s 4s/step - loss: 0.0642 - accuracy: 0.9955 - val_loss: 0.8162 - val_accuracy: 0.6875\n",
            "Epoch 77/150\n",
            "7/7 [==============================] - 28s 4s/step - loss: 0.0765 - accuracy: 0.9897 - val_loss: 0.8395 - val_accuracy: 0.7031\n",
            "Epoch 78/150\n",
            "7/7 [==============================] - 28s 4s/step - loss: 0.1112 - accuracy: 0.9598 - val_loss: 0.7135 - val_accuracy: 0.8125\n",
            "Epoch 79/150\n",
            "7/7 [==============================] - 28s 4s/step - loss: 0.0811 - accuracy: 0.9911 - val_loss: 0.4402 - val_accuracy: 0.7969\n",
            "Epoch 80/150\n",
            "7/7 [==============================] - 25s 4s/step - loss: 0.1156 - accuracy: 0.9536 - val_loss: 0.8570 - val_accuracy: 0.7031\n",
            "Epoch 81/150\n",
            "7/7 [==============================] - 26s 4s/step - loss: 0.1209 - accuracy: 0.9794 - val_loss: 0.7284 - val_accuracy: 0.7031\n",
            "Epoch 82/150\n",
            "7/7 [==============================] - 27s 4s/step - loss: 0.0586 - accuracy: 0.9911 - val_loss: 0.6113 - val_accuracy: 0.8281\n",
            "Epoch 83/150\n",
            "7/7 [==============================] - 22s 3s/step - loss: 0.0556 - accuracy: 0.9948 - val_loss: 0.3472 - val_accuracy: 0.8906\n",
            "Epoch 84/150\n",
            "7/7 [==============================] - 29s 4s/step - loss: 0.0927 - accuracy: 0.9821 - val_loss: 0.6249 - val_accuracy: 0.8125\n",
            "Epoch 85/150\n",
            "7/7 [==============================] - 22s 3s/step - loss: 0.0708 - accuracy: 0.9897 - val_loss: 0.9281 - val_accuracy: 0.7031\n",
            "Epoch 86/150\n",
            "7/7 [==============================] - 28s 4s/step - loss: 0.0817 - accuracy: 0.9866 - val_loss: 0.5869 - val_accuracy: 0.7812\n",
            "Epoch 87/150\n",
            "7/7 [==============================] - 28s 4s/step - loss: 0.0798 - accuracy: 0.9866 - val_loss: 0.5403 - val_accuracy: 0.8125\n",
            "Epoch 88/150\n",
            "7/7 [==============================] - 27s 4s/step - loss: 0.0624 - accuracy: 0.9955 - val_loss: 0.7932 - val_accuracy: 0.7500\n",
            "Epoch 89/150\n",
            "7/7 [==============================] - 29s 4s/step - loss: 0.0631 - accuracy: 0.9911 - val_loss: 0.5126 - val_accuracy: 0.8125\n",
            "Epoch 90/150\n",
            "7/7 [==============================] - 27s 4s/step - loss: 0.0440 - accuracy: 1.0000 - val_loss: 0.5588 - val_accuracy: 0.7812\n",
            "Epoch 91/150\n",
            "7/7 [==============================] - 28s 4s/step - loss: 0.0528 - accuracy: 0.9911 - val_loss: 0.5490 - val_accuracy: 0.8281\n",
            "Epoch 92/150\n",
            "7/7 [==============================] - 28s 4s/step - loss: 0.0824 - accuracy: 0.9777 - val_loss: 0.3737 - val_accuracy: 0.8594\n",
            "Epoch 93/150\n",
            "7/7 [==============================] - 30s 5s/step - loss: 0.0353 - accuracy: 1.0000 - val_loss: 0.7674 - val_accuracy: 0.7188\n",
            "Epoch 94/150\n",
            "7/7 [==============================] - 24s 4s/step - loss: 0.0408 - accuracy: 1.0000 - val_loss: 0.5196 - val_accuracy: 0.7812\n",
            "Epoch 95/150\n",
            "7/7 [==============================] - 25s 4s/step - loss: 0.0443 - accuracy: 0.9955 - val_loss: 0.3539 - val_accuracy: 0.8594\n",
            "Epoch 96/150\n",
            "7/7 [==============================] - 24s 3s/step - loss: 0.0492 - accuracy: 0.9948 - val_loss: 0.5888 - val_accuracy: 0.8125\n",
            "Epoch 97/150\n",
            "7/7 [==============================] - 27s 4s/step - loss: 0.0445 - accuracy: 0.9911 - val_loss: 0.7292 - val_accuracy: 0.7656\n",
            "Epoch 98/150\n",
            "7/7 [==============================] - 29s 4s/step - loss: 0.0463 - accuracy: 1.0000 - val_loss: 0.4111 - val_accuracy: 0.8594\n",
            "Epoch 99/150\n",
            "7/7 [==============================] - 26s 4s/step - loss: 0.1726 - accuracy: 0.9433 - val_loss: 0.8021 - val_accuracy: 0.7031\n",
            "Epoch 100/150\n",
            "7/7 [==============================] - 29s 4s/step - loss: 0.0843 - accuracy: 0.9777 - val_loss: 0.6069 - val_accuracy: 0.8281\n",
            "Epoch 101/150\n",
            "7/7 [==============================] - 28s 4s/step - loss: 0.0601 - accuracy: 0.9955 - val_loss: 0.9156 - val_accuracy: 0.6875\n",
            "Epoch 102/150\n",
            "7/7 [==============================] - 29s 4s/step - loss: 0.0661 - accuracy: 0.9911 - val_loss: 0.6759 - val_accuracy: 0.7500\n",
            "Epoch 103/150\n",
            "7/7 [==============================] - 25s 4s/step - loss: 0.0565 - accuracy: 0.9955 - val_loss: 0.7184 - val_accuracy: 0.7656\n",
            "Epoch 104/150\n",
            "7/7 [==============================] - 25s 4s/step - loss: 0.0442 - accuracy: 0.9897 - val_loss: 0.8251 - val_accuracy: 0.7344\n",
            "Epoch 105/150\n",
            "7/7 [==============================] - 28s 4s/step - loss: 0.0568 - accuracy: 0.9911 - val_loss: 0.4731 - val_accuracy: 0.8125\n",
            "Epoch 106/150\n",
            "7/7 [==============================] - 29s 4s/step - loss: 0.0596 - accuracy: 0.9866 - val_loss: 0.7760 - val_accuracy: 0.7188\n",
            "Epoch 107/150\n",
            "7/7 [==============================] - 28s 4s/step - loss: 0.0469 - accuracy: 0.9911 - val_loss: 0.4966 - val_accuracy: 0.8125\n",
            "Epoch 108/150\n",
            "7/7 [==============================] - 28s 4s/step - loss: 0.0433 - accuracy: 0.9955 - val_loss: 0.5263 - val_accuracy: 0.7812\n",
            "Epoch 109/150\n",
            "7/7 [==============================] - 29s 4s/step - loss: 0.0411 - accuracy: 0.9955 - val_loss: 0.6957 - val_accuracy: 0.7812\n",
            "Epoch 110/150\n",
            "7/7 [==============================] - 28s 4s/step - loss: 0.0461 - accuracy: 0.9955 - val_loss: 0.6280 - val_accuracy: 0.7969\n",
            "Epoch 111/150\n",
            "7/7 [==============================] - 29s 4s/step - loss: 0.0418 - accuracy: 0.9955 - val_loss: 0.3237 - val_accuracy: 0.8594\n",
            "Epoch 112/150\n",
            "7/7 [==============================] - 26s 4s/step - loss: 0.0339 - accuracy: 0.9955 - val_loss: 0.6511 - val_accuracy: 0.8125\n",
            "Epoch 113/150\n",
            "7/7 [==============================] - 30s 4s/step - loss: 0.0253 - accuracy: 1.0000 - val_loss: 0.4579 - val_accuracy: 0.8125\n",
            "Epoch 114/150\n",
            "7/7 [==============================] - 29s 4s/step - loss: 0.0415 - accuracy: 0.9955 - val_loss: 0.4921 - val_accuracy: 0.8125\n",
            "Epoch 115/150\n",
            "7/7 [==============================] - 30s 4s/step - loss: 0.0546 - accuracy: 0.9821 - val_loss: 0.3960 - val_accuracy: 0.8438\n",
            "Epoch 116/150\n",
            "7/7 [==============================] - 30s 4s/step - loss: 0.0443 - accuracy: 1.0000 - val_loss: 0.6698 - val_accuracy: 0.7656\n",
            "Epoch 117/150\n",
            "7/7 [==============================] - 30s 4s/step - loss: 0.0599 - accuracy: 0.9777 - val_loss: 0.7286 - val_accuracy: 0.7812\n",
            "Epoch 118/150\n",
            "7/7 [==============================] - 25s 4s/step - loss: 0.0536 - accuracy: 0.9955 - val_loss: 0.4642 - val_accuracy: 0.8438\n",
            "Epoch 119/150\n",
            "7/7 [==============================] - 28s 4s/step - loss: 0.0673 - accuracy: 0.9911 - val_loss: 0.5431 - val_accuracy: 0.8281\n",
            "Epoch 120/150\n",
            "7/7 [==============================] - 29s 4s/step - loss: 0.0469 - accuracy: 0.9911 - val_loss: 0.6021 - val_accuracy: 0.7500\n",
            "Epoch 121/150\n",
            "7/7 [==============================] - 27s 4s/step - loss: 0.0410 - accuracy: 1.0000 - val_loss: 0.4258 - val_accuracy: 0.8125\n",
            "Epoch 122/150\n",
            "7/7 [==============================] - 28s 4s/step - loss: 0.0363 - accuracy: 0.9911 - val_loss: 0.6600 - val_accuracy: 0.7656\n",
            "Epoch 123/150\n",
            "7/7 [==============================] - 29s 4s/step - loss: 0.0292 - accuracy: 1.0000 - val_loss: 0.5138 - val_accuracy: 0.7969\n",
            "Epoch 124/150\n",
            "7/7 [==============================] - 29s 4s/step - loss: 0.0357 - accuracy: 0.9955 - val_loss: 0.4987 - val_accuracy: 0.8438\n",
            "Epoch 125/150\n",
            "7/7 [==============================] - 28s 4s/step - loss: 0.0336 - accuracy: 0.9955 - val_loss: 0.7062 - val_accuracy: 0.7656\n",
            "Epoch 126/150\n",
            "7/7 [==============================] - 29s 4s/step - loss: 0.0330 - accuracy: 0.9955 - val_loss: 0.4775 - val_accuracy: 0.7656\n",
            "Epoch 127/150\n",
            "7/7 [==============================] - 30s 4s/step - loss: 0.0228 - accuracy: 1.0000 - val_loss: 0.6338 - val_accuracy: 0.7656\n",
            "Epoch 128/150\n",
            "7/7 [==============================] - 25s 4s/step - loss: 0.0277 - accuracy: 1.0000 - val_loss: 0.5194 - val_accuracy: 0.8438\n",
            "Epoch 129/150\n",
            "7/7 [==============================] - 28s 4s/step - loss: 0.0304 - accuracy: 0.9955 - val_loss: 0.5590 - val_accuracy: 0.8125\n",
            "Epoch 130/150\n",
            "7/7 [==============================] - 27s 4s/step - loss: 0.0256 - accuracy: 1.0000 - val_loss: 0.6198 - val_accuracy: 0.7812\n",
            "Epoch 131/150\n",
            "7/7 [==============================] - 28s 4s/step - loss: 0.0304 - accuracy: 0.9955 - val_loss: 0.6073 - val_accuracy: 0.7656\n",
            "Epoch 132/150\n",
            "7/7 [==============================] - 29s 4s/step - loss: 0.0333 - accuracy: 1.0000 - val_loss: 0.4988 - val_accuracy: 0.8281\n",
            "Epoch 133/150\n",
            "7/7 [==============================] - 23s 3s/step - loss: 0.0334 - accuracy: 1.0000 - val_loss: 0.5299 - val_accuracy: 0.8281\n",
            "Epoch 134/150\n",
            "7/7 [==============================] - 30s 4s/step - loss: 0.0371 - accuracy: 0.9955 - val_loss: 0.6840 - val_accuracy: 0.7500\n",
            "Epoch 135/150\n",
            "7/7 [==============================] - 29s 4s/step - loss: 0.0323 - accuracy: 0.9955 - val_loss: 0.8157 - val_accuracy: 0.7656\n",
            "Epoch 136/150\n",
            "7/7 [==============================] - 28s 4s/step - loss: 0.0267 - accuracy: 1.0000 - val_loss: 0.6513 - val_accuracy: 0.7656\n",
            "Epoch 137/150\n",
            "7/7 [==============================] - 29s 4s/step - loss: 0.0334 - accuracy: 0.9955 - val_loss: 0.5325 - val_accuracy: 0.8281\n",
            "Epoch 138/150\n",
            "7/7 [==============================] - 27s 4s/step - loss: 0.0326 - accuracy: 1.0000 - val_loss: 0.7380 - val_accuracy: 0.7656\n",
            "Epoch 139/150\n",
            "7/7 [==============================] - 24s 4s/step - loss: 0.0404 - accuracy: 0.9948 - val_loss: 0.6510 - val_accuracy: 0.7969\n",
            "Epoch 140/150\n",
            "7/7 [==============================] - 29s 4s/step - loss: 0.0590 - accuracy: 0.9911 - val_loss: 0.4775 - val_accuracy: 0.7656\n",
            "Epoch 141/150\n",
            "7/7 [==============================] - 31s 5s/step - loss: 0.0501 - accuracy: 0.9866 - val_loss: 0.3974 - val_accuracy: 0.8438\n",
            "Epoch 142/150\n",
            "7/7 [==============================] - 30s 5s/step - loss: 0.0436 - accuracy: 0.9955 - val_loss: 0.4074 - val_accuracy: 0.8281\n",
            "Epoch 143/150\n",
            "7/7 [==============================] - 27s 4s/step - loss: 0.0353 - accuracy: 0.9955 - val_loss: 0.5640 - val_accuracy: 0.7969\n",
            "Epoch 144/150\n",
            "7/7 [==============================] - 29s 4s/step - loss: 0.0259 - accuracy: 1.0000 - val_loss: 0.6658 - val_accuracy: 0.7969\n",
            "Epoch 145/150\n",
            "7/7 [==============================] - 28s 4s/step - loss: 0.0193 - accuracy: 1.0000 - val_loss: 0.5294 - val_accuracy: 0.7812\n",
            "Epoch 146/150\n",
            "7/7 [==============================] - 24s 3s/step - loss: 0.0449 - accuracy: 0.9897 - val_loss: 0.4129 - val_accuracy: 0.8750\n",
            "Epoch 147/150\n",
            "7/7 [==============================] - 28s 4s/step - loss: 0.0580 - accuracy: 0.9955 - val_loss: 0.9857 - val_accuracy: 0.7031\n",
            "Epoch 148/150\n",
            "7/7 [==============================] - 31s 5s/step - loss: 0.0587 - accuracy: 0.9821 - val_loss: 0.7030 - val_accuracy: 0.7656\n",
            "Epoch 149/150\n",
            "7/7 [==============================] - 25s 4s/step - loss: 0.0252 - accuracy: 1.0000 - val_loss: 0.9210 - val_accuracy: 0.8125\n",
            "Epoch 150/150\n",
            "7/7 [==============================] - 27s 4s/step - loss: 0.0245 - accuracy: 0.9948 - val_loss: 0.6290 - val_accuracy: 0.7812\n"
          ]
        }
      ],
      "source": [
        "import sys\n",
        "# fit the model\n",
        "r = model.fit_generator(\n",
        "  training_set,\n",
        "  validation_data=test_set,\n",
        "  epochs=150,\n",
        "  steps_per_epoch=len(training_set)//3,\n",
        "  validation_steps=len(test_set)//3)"
      ]
    },
    {
      "cell_type": "markdown",
      "metadata": {
        "id": "8V0BNbvM1OFK"
      },
      "source": [
        "**Save the Model**"
      ]
    },
    {
      "cell_type": "code",
      "execution_count": null,
      "metadata": {
        "id": "VI-1oHJ3QHz2"
      },
      "outputs": [],
      "source": [
        "#save the model\n",
        "model.save('vgg-16-Tea-leaves-disease-model.h5')"
      ]
    },
    {
      "cell_type": "markdown",
      "metadata": {
        "id": "pZ7WhOlk1VJv"
      },
      "source": [
        "**Load the Model**"
      ]
    },
    {
      "cell_type": "code",
      "execution_count": 40,
      "metadata": {
        "id": "hzSDh5PvQcc8"
      },
      "outputs": [],
      "source": [
        "#import load_model class for loading h5 file\n",
        "from tensorflow.keras.models import load_model\n",
        "#import image class to process the images\n",
        "from tensorflow.keras.preprocessing import image\n",
        "from tensorflow.keras.applications.inception_v3 import preprocess_input\n",
        "import numpy as np"
      ]
    },
    {
      "cell_type": "code",
      "execution_count": 41,
      "metadata": {
        "id": "7isEeZefQhLK"
      },
      "outputs": [],
      "source": [
        "#load saved model file\n",
        "model=load_model('vgg-16-Tea-leaves-disease-model.h5')"
      ]
    },
    {
      "cell_type": "markdown",
      "metadata": {
        "id": "CFePrIllvlFM"
      },
      "source": [
        "# Testing the Model"
      ]
    },
    {
      "cell_type": "markdown",
      "metadata": {
        "id": "akO7yMYdwFgK"
      },
      "source": [
        "**Test Case 1**"
      ]
    },
    {
      "cell_type": "code",
      "execution_count": 15,
      "metadata": {
        "colab": {
          "base_uri": "https://localhost:8080/",
          "height": 54
        },
        "id": "eQgduSTpQqUi",
        "outputId": "9a4163ee-3547-4687-8be2-90e273327da8"
      },
      "outputs": [
        {
          "name": "stdout",
          "output_type": "stream",
          "text": [
            "1/1 [==============================] - 0s 19ms/step\n"
          ]
        },
        {
          "data": {
            "application/vnd.google.colaboratory.intrinsic+json": {
              "type": "string"
            },
            "text/plain": [
              "'red leaf spot'"
            ]
          },
          "execution_count": 15,
          "metadata": {},
          "output_type": "execute_result"
        }
      ],
      "source": [
        "img=image.load_img(r'/content/Dataset/test/red leaf spot/UNADJUSTEDNONRAW_thumb_1b5.jpg',target_size=(224,224))\n",
        "#convert image to array format\n",
        "x=image.img_to_array(img)\n",
        "import numpy as np\n",
        "x=np.expand_dims(x,axis=0)\n",
        "img_data=preprocess_input(x)\n",
        "output=np.argmax(model.predict(img_data), axis=1)\n",
        "index=['Anthracnose',\n",
        " 'algal leaf',\n",
        " 'bird eye spot',\n",
        " 'brown blight',\n",
        " 'gray light',\n",
        " 'healthy',\n",
        " 'red leaf spot',\n",
        " 'white spot']\n",
        "result = str(index[output[0]])\n",
        "result"
      ]
    },
    {
      "cell_type": "markdown",
      "metadata": {
        "id": "-pDXAPAwwMPp"
      },
      "source": [
        "**Test Case 2**"
      ]
    },
    {
      "cell_type": "code",
      "execution_count": 16,
      "metadata": {
        "colab": {
          "base_uri": "https://localhost:8080/",
          "height": 54
        },
        "id": "MTrC5U7rQ1_2",
        "outputId": "79c410fd-06ca-41c3-b0b6-203c7a8990c0"
      },
      "outputs": [
        {
          "name": "stdout",
          "output_type": "stream",
          "text": [
            "1/1 [==============================] - 0s 24ms/step\n"
          ]
        },
        {
          "data": {
            "application/vnd.google.colaboratory.intrinsic+json": {
              "type": "string"
            },
            "text/plain": [
              "'Anthracnose'"
            ]
          },
          "execution_count": 16,
          "metadata": {},
          "output_type": "execute_result"
        }
      ],
      "source": [
        "img=image.load_img(r'/content/Dataset/test/Anthracnose/IMG_20220503_145528.jpg',target_size=(224,224))\n",
        "#convert image to array format\n",
        "x=image.img_to_array(img)\n",
        "import numpy as np\n",
        "x=np.expand_dims(x,axis=0)\n",
        "img_data=preprocess_input(x)\n",
        "output=np.argmax(model.predict(img_data), axis=1)\n",
        "index=['Anthracnose',\n",
        " 'algal leaf',\n",
        " 'bird eye spot',\n",
        " 'brown blight',\n",
        " 'gray light',\n",
        " 'healthy',\n",
        " 'red leaf spot',\n",
        " 'white spot']\n",
        "result = str(index[output[0]])\n",
        "result"
      ]
    },
    {
      "cell_type": "markdown",
      "metadata": {
        "id": "fGeEYAbfwbAx"
      },
      "source": [
        "**Test Case 3**"
      ]
    },
    {
      "cell_type": "code",
      "execution_count": 17,
      "metadata": {
        "colab": {
          "base_uri": "https://localhost:8080/",
          "height": 54
        },
        "id": "PbZHKK-EQ3Dj",
        "outputId": "ccb8c84c-992d-46d2-f742-0f0d0fea3c8f"
      },
      "outputs": [
        {
          "name": "stdout",
          "output_type": "stream",
          "text": [
            "1/1 [==============================] - 0s 16ms/step\n"
          ]
        },
        {
          "data": {
            "application/vnd.google.colaboratory.intrinsic+json": {
              "type": "string"
            },
            "text/plain": [
              "'algal leaf'"
            ]
          },
          "execution_count": 17,
          "metadata": {},
          "output_type": "execute_result"
        }
      ],
      "source": [
        "img=image.load_img(r'/content/Dataset/test/algal leaf/UNADJUSTEDNONRAW_thumb_50.jpg',target_size=(224,224))\n",
        "#convert image to array format\n",
        "x=image.img_to_array(img)\n",
        "import numpy as np\n",
        "x=np.expand_dims(x,axis=0)\n",
        "img_data=preprocess_input(x)\n",
        "output=np.argmax(model.predict(img_data), axis=1)\n",
        "index=['Anthracnose',\n",
        " 'algal leaf',\n",
        " 'bird eye spot',\n",
        " 'brown blight',\n",
        " 'gray light',\n",
        " 'healthy',\n",
        " 'red leaf spot',\n",
        " 'white spot']\n",
        "result = str(index[output[0]])\n",
        "result"
      ]
    },
    {
      "cell_type": "markdown",
      "metadata": {
        "id": "TcVf5h_vwnYy"
      },
      "source": [
        "**Test Case 4**"
      ]
    },
    {
      "cell_type": "code",
      "execution_count": 19,
      "metadata": {
        "colab": {
          "base_uri": "https://localhost:8080/",
          "height": 54
        },
        "id": "rxM5Hv2WQ8ya",
        "outputId": "7bfcefeb-1f6f-402b-8902-0fb88388ef96"
      },
      "outputs": [
        {
          "name": "stdout",
          "output_type": "stream",
          "text": [
            "1/1 [==============================] - 0s 16ms/step\n"
          ]
        },
        {
          "data": {
            "application/vnd.google.colaboratory.intrinsic+json": {
              "type": "string"
            },
            "text/plain": [
              "'bird eye spot'"
            ]
          },
          "execution_count": 19,
          "metadata": {},
          "output_type": "execute_result"
        }
      ],
      "source": [
        "img=image.load_img(r'/content/Dataset/test/bird eye spot/IMG_20220503_154332.jpg',target_size=(224,224))\n",
        "#convert image to array format\n",
        "x=image.img_to_array(img)\n",
        "import numpy as np\n",
        "x=np.expand_dims(x,axis=0)\n",
        "img_data=preprocess_input(x)\n",
        "output=np.argmax(model.predict(img_data), axis=1)\n",
        "index=['Anthracnose',\n",
        " 'algal leaf',\n",
        " 'bird eye spot',\n",
        " 'brown blight',\n",
        " 'gray light',\n",
        " 'healthy',\n",
        " 'red leaf spot',\n",
        " 'white spot']\n",
        "result = str(index[output[0]])\n",
        "result"
      ]
    },
    {
      "cell_type": "markdown",
      "metadata": {
        "id": "YfuuBaFyw51b"
      },
      "source": [
        "**Test Case 5**"
      ]
    },
    {
      "cell_type": "code",
      "execution_count": 25,
      "metadata": {
        "colab": {
          "base_uri": "https://localhost:8080/",
          "height": 54
        },
        "id": "gCbe0HimQ-hj",
        "outputId": "5bbe7ed8-3e9b-4847-ef93-3ef9f9d73e12"
      },
      "outputs": [
        {
          "name": "stdout",
          "output_type": "stream",
          "text": [
            "1/1 [==============================] - 0s 17ms/step\n"
          ]
        },
        {
          "data": {
            "application/vnd.google.colaboratory.intrinsic+json": {
              "type": "string"
            },
            "text/plain": [
              "'brown blight'"
            ]
          },
          "execution_count": 25,
          "metadata": {},
          "output_type": "execute_result"
        }
      ],
      "source": [
        "img=image.load_img(r'/content/Dataset/test/brown blight/UNADJUSTEDNONRAW_thumb_113.jpg',target_size=(224,224))\n",
        "#convert image to array format\n",
        "x=image.img_to_array(img)\n",
        "import numpy as np\n",
        "x=np.expand_dims(x,axis=0)\n",
        "img_data=preprocess_input(x)\n",
        "output=np.argmax(model.predict(img_data), axis=1)\n",
        "index=['Anthracnose',\n",
        " 'algal leaf',\n",
        " 'bird eye spot',\n",
        " 'brown blight',\n",
        " 'gray light',\n",
        " 'healthy',\n",
        " 'red leaf spot',\n",
        " 'white spot']\n",
        "result = str(index[output[0]])\n",
        "result"
      ]
    },
    {
      "cell_type": "markdown",
      "metadata": {
        "id": "OpnwwAghxbzS"
      },
      "source": [
        "**Test Case 6**"
      ]
    },
    {
      "cell_type": "code",
      "execution_count": 26,
      "metadata": {
        "colab": {
          "base_uri": "https://localhost:8080/",
          "height": 54
        },
        "id": "8O9DKTr3xezT",
        "outputId": "0d59bd20-9a53-4a43-8ca9-3a33a7467923"
      },
      "outputs": [
        {
          "name": "stdout",
          "output_type": "stream",
          "text": [
            "1/1 [==============================] - 0s 17ms/step\n"
          ]
        },
        {
          "data": {
            "application/vnd.google.colaboratory.intrinsic+json": {
              "type": "string"
            },
            "text/plain": [
              "'gray light'"
            ]
          },
          "execution_count": 26,
          "metadata": {},
          "output_type": "execute_result"
        }
      ],
      "source": [
        "img=image.load_img(r'/content/Dataset/test/gray light/IMG_20220503_135357.jpg',target_size=(224,224))\n",
        "#convert image to array format\n",
        "x=image.img_to_array(img)\n",
        "import numpy as np\n",
        "x=np.expand_dims(x,axis=0)\n",
        "img_data=preprocess_input(x)\n",
        "output=np.argmax(model.predict(img_data), axis=1)\n",
        "index=['Anthracnose',\n",
        " 'algal leaf',\n",
        " 'bird eye spot',\n",
        " 'brown blight',\n",
        " 'gray light',\n",
        " 'healthy',\n",
        " 'red leaf spot',\n",
        " 'white spot']\n",
        "result = str(index[output[0]])\n",
        "result"
      ]
    },
    {
      "cell_type": "markdown",
      "metadata": {
        "id": "h5kpB8Mixjup"
      },
      "source": [
        "**Test Case 7**"
      ]
    },
    {
      "cell_type": "code",
      "execution_count": 27,
      "metadata": {
        "colab": {
          "base_uri": "https://localhost:8080/",
          "height": 54
        },
        "id": "B9Vb80vyxmaa",
        "outputId": "d1af08e2-c15f-45e5-a732-71dfa30cb53a"
      },
      "outputs": [
        {
          "name": "stdout",
          "output_type": "stream",
          "text": [
            "1/1 [==============================] - 0s 19ms/step\n"
          ]
        },
        {
          "data": {
            "application/vnd.google.colaboratory.intrinsic+json": {
              "type": "string"
            },
            "text/plain": [
              "'healthy'"
            ]
          },
          "execution_count": 27,
          "metadata": {},
          "output_type": "execute_result"
        }
      ],
      "source": [
        "img=image.load_img(r'/content/Dataset/test/healthy/UNADJUSTEDNONRAW_thumb_209.jpg',target_size=(224,224))\n",
        "#convert image to array format\n",
        "x=image.img_to_array(img)\n",
        "import numpy as np\n",
        "x=np.expand_dims(x,axis=0)\n",
        "img_data=preprocess_input(x)\n",
        "output=np.argmax(model.predict(img_data), axis=1)\n",
        "index=['Anthracnose',\n",
        " 'algal leaf',\n",
        " 'bird eye spot',\n",
        " 'brown blight',\n",
        " 'gray light',\n",
        " 'healthy',\n",
        " 'red leaf spot',\n",
        " 'white spot']\n",
        "result = str(index[output[0]])\n",
        "result"
      ]
    },
    {
      "cell_type": "markdown",
      "metadata": {
        "id": "Y-jSL_VKya8a"
      },
      "source": [
        "**Test Case 8**"
      ]
    },
    {
      "cell_type": "code",
      "execution_count": 44,
      "metadata": {
        "colab": {
          "base_uri": "https://localhost:8080/",
          "height": 54
        },
        "id": "Lp2o5iJzyeB9",
        "outputId": "3bbb3bca-19fa-4098-e7f9-bc47e59ac7c8"
      },
      "outputs": [
        {
          "name": "stdout",
          "output_type": "stream",
          "text": [
            "1/1 [==============================] - 0s 16ms/step\n"
          ]
        },
        {
          "data": {
            "application/vnd.google.colaboratory.intrinsic+json": {
              "type": "string"
            },
            "text/plain": [
              "'white spot'"
            ]
          },
          "execution_count": 44,
          "metadata": {},
          "output_type": "execute_result"
        }
      ],
      "source": [
        "img=image.load_img(r'/content/Dataset/test/white spot/UNADJUSTEDNONRAW_thumb_de.jpg',target_size=(224,224))\n",
        "#convert image to array format\n",
        "x=image.img_to_array(img)\n",
        "import numpy as np\n",
        "x=np.expand_dims(x,axis=0)\n",
        "img_data=preprocess_input(x)\n",
        "output=np.argmax(model.predict(img_data), axis=1)\n",
        "index=['Anthracnose',\n",
        " 'algal leaf',\n",
        " 'bird eye spot',\n",
        " 'brown blight',\n",
        " 'gray light',\n",
        " 'healthy',\n",
        " 'red leaf spot',\n",
        " 'white spot']\n",
        "result = str(index[output[0]])\n",
        "result"
      ]
    }
  ],
  "metadata": {
    "accelerator": "GPU",
    "colab": {
      "collapsed_sections": [
        "2SYtRPbWuhGR",
        "6GFj3jEo0qDC",
        "M1jQUukg5P4C",
        "CFePrIllvlFM"
      ],
      "provenance": []
    },
    "gpuClass": "standard",
    "kernelspec": {
      "display_name": "Python 3",
      "name": "python3"
    },
    "language_info": {
      "name": "python"
    }
  },
  "nbformat": 4,
  "nbformat_minor": 0
}
